{
 "cells": [
  {
   "cell_type": "code",
   "execution_count": 1,
   "metadata": {},
   "outputs": [],
   "source": [
    "import pandas as pd\n",
    "import numpy as np\n",
    "import torch"
   ]
  },
  {
   "cell_type": "code",
   "execution_count": 2,
   "metadata": {},
   "outputs": [
    {
     "data": {
      "text/html": [
       "<div>\n",
       "<style scoped>\n",
       "    .dataframe tbody tr th:only-of-type {\n",
       "        vertical-align: middle;\n",
       "    }\n",
       "\n",
       "    .dataframe tbody tr th {\n",
       "        vertical-align: top;\n",
       "    }\n",
       "\n",
       "    .dataframe thead th {\n",
       "        text-align: right;\n",
       "    }\n",
       "</style>\n",
       "<table border=\"1\" class=\"dataframe\">\n",
       "  <thead>\n",
       "    <tr style=\"text-align: right;\">\n",
       "      <th></th>\n",
       "      <th>user_id</th>\n",
       "      <th>gender</th>\n",
       "      <th>age</th>\n",
       "      <th>occupation</th>\n",
       "      <th>zip_code</th>\n",
       "    </tr>\n",
       "  </thead>\n",
       "  <tbody>\n",
       "    <tr>\n",
       "      <th>0</th>\n",
       "      <td>1</td>\n",
       "      <td>F</td>\n",
       "      <td>1</td>\n",
       "      <td>K-12 student</td>\n",
       "      <td>48067</td>\n",
       "    </tr>\n",
       "    <tr>\n",
       "      <th>1</th>\n",
       "      <td>2</td>\n",
       "      <td>M</td>\n",
       "      <td>56</td>\n",
       "      <td>self-employed</td>\n",
       "      <td>70072</td>\n",
       "    </tr>\n",
       "    <tr>\n",
       "      <th>2</th>\n",
       "      <td>3</td>\n",
       "      <td>M</td>\n",
       "      <td>25</td>\n",
       "      <td>scientist</td>\n",
       "      <td>55117</td>\n",
       "    </tr>\n",
       "    <tr>\n",
       "      <th>3</th>\n",
       "      <td>4</td>\n",
       "      <td>M</td>\n",
       "      <td>45</td>\n",
       "      <td>executive/managerial</td>\n",
       "      <td>02460</td>\n",
       "    </tr>\n",
       "    <tr>\n",
       "      <th>4</th>\n",
       "      <td>5</td>\n",
       "      <td>M</td>\n",
       "      <td>25</td>\n",
       "      <td>writer</td>\n",
       "      <td>55455</td>\n",
       "    </tr>\n",
       "  </tbody>\n",
       "</table>\n",
       "</div>"
      ],
      "text/plain": [
       "   user_id gender  age            occupation zip_code\n",
       "0        1      F    1          K-12 student    48067\n",
       "1        2      M   56         self-employed    70072\n",
       "2        3      M   25             scientist    55117\n",
       "3        4      M   45  executive/managerial    02460\n",
       "4        5      M   25                writer    55455"
      ]
     },
     "execution_count": 2,
     "metadata": {},
     "output_type": "execute_result"
    }
   ],
   "source": [
    "readme_text = np.array(open(f'./ml-1m/README').read().splitlines())\n",
    "start_index = np.flatnonzero(np.core.defchararray.find(readme_text,'Occupation is chosen')!=-1)[0]\n",
    "end_index = np.flatnonzero(np.core.defchararray.find(readme_text,'MOVIES FILE DESCRIPTION')!=-1)[0]\n",
    "occupation_list = [x.split('\"')[1] for x in readme_text[start_index:end_index][2:-1].tolist()]\n",
    "occupation_dict = dict(zip(range(len(occupation_list)), occupation_list))\n",
    "\n",
    "users_df = pd.read_csv(f'./ml-1m/users.dat',\n",
    "                       delimiter='::', engine='python', header=None,\n",
    "                       names=['user_id', 'gender', 'age', 'occupation', 'zip_code'])\n",
    "users_df['occupation'] = users_df['occupation'].replace(occupation_dict)\n",
    "users_df.head()"
   ]
  },
  {
   "cell_type": "code",
   "execution_count": 3,
   "metadata": {},
   "outputs": [],
   "source": [
    "encode_attribute = pd.get_dummies(users_df[['gender', 'age','occupation']].astype(str))\n",
    "# encode_attribute = pd.get_dummies(users_df[['gender']].astype(str))"
   ]
  },
  {
   "cell_type": "code",
   "execution_count": 4,
   "metadata": {},
   "outputs": [],
   "source": [
    "# encode_age = pd.get_dummies(users_df[['age']].astype(str))\n",
    "# encode_age"
   ]
  },
  {
   "cell_type": "code",
   "execution_count": 5,
   "metadata": {},
   "outputs": [
    {
     "data": {
      "text/html": [
       "<div>\n",
       "<style scoped>\n",
       "    .dataframe tbody tr th:only-of-type {\n",
       "        vertical-align: middle;\n",
       "    }\n",
       "\n",
       "    .dataframe tbody tr th {\n",
       "        vertical-align: top;\n",
       "    }\n",
       "\n",
       "    .dataframe thead th {\n",
       "        text-align: right;\n",
       "    }\n",
       "</style>\n",
       "<table border=\"1\" class=\"dataframe\">\n",
       "  <thead>\n",
       "    <tr style=\"text-align: right;\">\n",
       "      <th></th>\n",
       "      <th>gender_F</th>\n",
       "      <th>gender_M</th>\n",
       "      <th>age_1</th>\n",
       "      <th>age_18</th>\n",
       "      <th>age_25</th>\n",
       "      <th>age_35</th>\n",
       "      <th>age_45</th>\n",
       "      <th>age_50</th>\n",
       "      <th>age_56</th>\n",
       "      <th>occupation_K-12 student</th>\n",
       "      <th>...</th>\n",
       "      <th>occupation_other</th>\n",
       "      <th>occupation_programmer</th>\n",
       "      <th>occupation_retired</th>\n",
       "      <th>occupation_sales/marketing</th>\n",
       "      <th>occupation_scientist</th>\n",
       "      <th>occupation_self-employed</th>\n",
       "      <th>occupation_technician/engineer</th>\n",
       "      <th>occupation_tradesman/craftsman</th>\n",
       "      <th>occupation_unemployed</th>\n",
       "      <th>occupation_writer</th>\n",
       "    </tr>\n",
       "  </thead>\n",
       "  <tbody>\n",
       "    <tr>\n",
       "      <th>0</th>\n",
       "      <td>1</td>\n",
       "      <td>0</td>\n",
       "      <td>1</td>\n",
       "      <td>0</td>\n",
       "      <td>0</td>\n",
       "      <td>0</td>\n",
       "      <td>0</td>\n",
       "      <td>0</td>\n",
       "      <td>0</td>\n",
       "      <td>1</td>\n",
       "      <td>...</td>\n",
       "      <td>0</td>\n",
       "      <td>0</td>\n",
       "      <td>0</td>\n",
       "      <td>0</td>\n",
       "      <td>0</td>\n",
       "      <td>0</td>\n",
       "      <td>0</td>\n",
       "      <td>0</td>\n",
       "      <td>0</td>\n",
       "      <td>0</td>\n",
       "    </tr>\n",
       "    <tr>\n",
       "      <th>1</th>\n",
       "      <td>0</td>\n",
       "      <td>1</td>\n",
       "      <td>0</td>\n",
       "      <td>0</td>\n",
       "      <td>0</td>\n",
       "      <td>0</td>\n",
       "      <td>0</td>\n",
       "      <td>0</td>\n",
       "      <td>1</td>\n",
       "      <td>0</td>\n",
       "      <td>...</td>\n",
       "      <td>0</td>\n",
       "      <td>0</td>\n",
       "      <td>0</td>\n",
       "      <td>0</td>\n",
       "      <td>0</td>\n",
       "      <td>1</td>\n",
       "      <td>0</td>\n",
       "      <td>0</td>\n",
       "      <td>0</td>\n",
       "      <td>0</td>\n",
       "    </tr>\n",
       "    <tr>\n",
       "      <th>2</th>\n",
       "      <td>0</td>\n",
       "      <td>1</td>\n",
       "      <td>0</td>\n",
       "      <td>0</td>\n",
       "      <td>1</td>\n",
       "      <td>0</td>\n",
       "      <td>0</td>\n",
       "      <td>0</td>\n",
       "      <td>0</td>\n",
       "      <td>0</td>\n",
       "      <td>...</td>\n",
       "      <td>0</td>\n",
       "      <td>0</td>\n",
       "      <td>0</td>\n",
       "      <td>0</td>\n",
       "      <td>1</td>\n",
       "      <td>0</td>\n",
       "      <td>0</td>\n",
       "      <td>0</td>\n",
       "      <td>0</td>\n",
       "      <td>0</td>\n",
       "    </tr>\n",
       "    <tr>\n",
       "      <th>3</th>\n",
       "      <td>0</td>\n",
       "      <td>1</td>\n",
       "      <td>0</td>\n",
       "      <td>0</td>\n",
       "      <td>0</td>\n",
       "      <td>0</td>\n",
       "      <td>1</td>\n",
       "      <td>0</td>\n",
       "      <td>0</td>\n",
       "      <td>0</td>\n",
       "      <td>...</td>\n",
       "      <td>0</td>\n",
       "      <td>0</td>\n",
       "      <td>0</td>\n",
       "      <td>0</td>\n",
       "      <td>0</td>\n",
       "      <td>0</td>\n",
       "      <td>0</td>\n",
       "      <td>0</td>\n",
       "      <td>0</td>\n",
       "      <td>0</td>\n",
       "    </tr>\n",
       "    <tr>\n",
       "      <th>4</th>\n",
       "      <td>0</td>\n",
       "      <td>1</td>\n",
       "      <td>0</td>\n",
       "      <td>0</td>\n",
       "      <td>1</td>\n",
       "      <td>0</td>\n",
       "      <td>0</td>\n",
       "      <td>0</td>\n",
       "      <td>0</td>\n",
       "      <td>0</td>\n",
       "      <td>...</td>\n",
       "      <td>0</td>\n",
       "      <td>0</td>\n",
       "      <td>0</td>\n",
       "      <td>0</td>\n",
       "      <td>0</td>\n",
       "      <td>0</td>\n",
       "      <td>0</td>\n",
       "      <td>0</td>\n",
       "      <td>0</td>\n",
       "      <td>1</td>\n",
       "    </tr>\n",
       "    <tr>\n",
       "      <th>...</th>\n",
       "      <td>...</td>\n",
       "      <td>...</td>\n",
       "      <td>...</td>\n",
       "      <td>...</td>\n",
       "      <td>...</td>\n",
       "      <td>...</td>\n",
       "      <td>...</td>\n",
       "      <td>...</td>\n",
       "      <td>...</td>\n",
       "      <td>...</td>\n",
       "      <td>...</td>\n",
       "      <td>...</td>\n",
       "      <td>...</td>\n",
       "      <td>...</td>\n",
       "      <td>...</td>\n",
       "      <td>...</td>\n",
       "      <td>...</td>\n",
       "      <td>...</td>\n",
       "      <td>...</td>\n",
       "      <td>...</td>\n",
       "      <td>...</td>\n",
       "    </tr>\n",
       "    <tr>\n",
       "      <th>6035</th>\n",
       "      <td>1</td>\n",
       "      <td>0</td>\n",
       "      <td>0</td>\n",
       "      <td>0</td>\n",
       "      <td>1</td>\n",
       "      <td>0</td>\n",
       "      <td>0</td>\n",
       "      <td>0</td>\n",
       "      <td>0</td>\n",
       "      <td>0</td>\n",
       "      <td>...</td>\n",
       "      <td>0</td>\n",
       "      <td>0</td>\n",
       "      <td>0</td>\n",
       "      <td>0</td>\n",
       "      <td>1</td>\n",
       "      <td>0</td>\n",
       "      <td>0</td>\n",
       "      <td>0</td>\n",
       "      <td>0</td>\n",
       "      <td>0</td>\n",
       "    </tr>\n",
       "    <tr>\n",
       "      <th>6036</th>\n",
       "      <td>1</td>\n",
       "      <td>0</td>\n",
       "      <td>0</td>\n",
       "      <td>0</td>\n",
       "      <td>0</td>\n",
       "      <td>0</td>\n",
       "      <td>1</td>\n",
       "      <td>0</td>\n",
       "      <td>0</td>\n",
       "      <td>0</td>\n",
       "      <td>...</td>\n",
       "      <td>0</td>\n",
       "      <td>0</td>\n",
       "      <td>0</td>\n",
       "      <td>0</td>\n",
       "      <td>0</td>\n",
       "      <td>0</td>\n",
       "      <td>0</td>\n",
       "      <td>0</td>\n",
       "      <td>0</td>\n",
       "      <td>0</td>\n",
       "    </tr>\n",
       "    <tr>\n",
       "      <th>6037</th>\n",
       "      <td>1</td>\n",
       "      <td>0</td>\n",
       "      <td>0</td>\n",
       "      <td>0</td>\n",
       "      <td>0</td>\n",
       "      <td>0</td>\n",
       "      <td>0</td>\n",
       "      <td>0</td>\n",
       "      <td>1</td>\n",
       "      <td>0</td>\n",
       "      <td>...</td>\n",
       "      <td>0</td>\n",
       "      <td>0</td>\n",
       "      <td>0</td>\n",
       "      <td>0</td>\n",
       "      <td>0</td>\n",
       "      <td>0</td>\n",
       "      <td>0</td>\n",
       "      <td>0</td>\n",
       "      <td>0</td>\n",
       "      <td>0</td>\n",
       "    </tr>\n",
       "    <tr>\n",
       "      <th>6038</th>\n",
       "      <td>1</td>\n",
       "      <td>0</td>\n",
       "      <td>0</td>\n",
       "      <td>0</td>\n",
       "      <td>0</td>\n",
       "      <td>0</td>\n",
       "      <td>1</td>\n",
       "      <td>0</td>\n",
       "      <td>0</td>\n",
       "      <td>0</td>\n",
       "      <td>...</td>\n",
       "      <td>1</td>\n",
       "      <td>0</td>\n",
       "      <td>0</td>\n",
       "      <td>0</td>\n",
       "      <td>0</td>\n",
       "      <td>0</td>\n",
       "      <td>0</td>\n",
       "      <td>0</td>\n",
       "      <td>0</td>\n",
       "      <td>0</td>\n",
       "    </tr>\n",
       "    <tr>\n",
       "      <th>6039</th>\n",
       "      <td>0</td>\n",
       "      <td>1</td>\n",
       "      <td>0</td>\n",
       "      <td>0</td>\n",
       "      <td>1</td>\n",
       "      <td>0</td>\n",
       "      <td>0</td>\n",
       "      <td>0</td>\n",
       "      <td>0</td>\n",
       "      <td>0</td>\n",
       "      <td>...</td>\n",
       "      <td>0</td>\n",
       "      <td>0</td>\n",
       "      <td>0</td>\n",
       "      <td>0</td>\n",
       "      <td>0</td>\n",
       "      <td>0</td>\n",
       "      <td>0</td>\n",
       "      <td>0</td>\n",
       "      <td>0</td>\n",
       "      <td>0</td>\n",
       "    </tr>\n",
       "  </tbody>\n",
       "</table>\n",
       "<p>6040 rows × 30 columns</p>\n",
       "</div>"
      ],
      "text/plain": [
       "      gender_F  gender_M  age_1  age_18  age_25  age_35  age_45  age_50  \\\n",
       "0            1         0      1       0       0       0       0       0   \n",
       "1            0         1      0       0       0       0       0       0   \n",
       "2            0         1      0       0       1       0       0       0   \n",
       "3            0         1      0       0       0       0       1       0   \n",
       "4            0         1      0       0       1       0       0       0   \n",
       "...        ...       ...    ...     ...     ...     ...     ...     ...   \n",
       "6035         1         0      0       0       1       0       0       0   \n",
       "6036         1         0      0       0       0       0       1       0   \n",
       "6037         1         0      0       0       0       0       0       0   \n",
       "6038         1         0      0       0       0       0       1       0   \n",
       "6039         0         1      0       0       1       0       0       0   \n",
       "\n",
       "      age_56  occupation_K-12 student  ...  occupation_other  \\\n",
       "0          0                        1  ...                 0   \n",
       "1          1                        0  ...                 0   \n",
       "2          0                        0  ...                 0   \n",
       "3          0                        0  ...                 0   \n",
       "4          0                        0  ...                 0   \n",
       "...      ...                      ...  ...               ...   \n",
       "6035       0                        0  ...                 0   \n",
       "6036       0                        0  ...                 0   \n",
       "6037       1                        0  ...                 0   \n",
       "6038       0                        0  ...                 1   \n",
       "6039       0                        0  ...                 0   \n",
       "\n",
       "      occupation_programmer  occupation_retired  occupation_sales/marketing  \\\n",
       "0                         0                   0                           0   \n",
       "1                         0                   0                           0   \n",
       "2                         0                   0                           0   \n",
       "3                         0                   0                           0   \n",
       "4                         0                   0                           0   \n",
       "...                     ...                 ...                         ...   \n",
       "6035                      0                   0                           0   \n",
       "6036                      0                   0                           0   \n",
       "6037                      0                   0                           0   \n",
       "6038                      0                   0                           0   \n",
       "6039                      0                   0                           0   \n",
       "\n",
       "      occupation_scientist  occupation_self-employed  \\\n",
       "0                        0                         0   \n",
       "1                        0                         1   \n",
       "2                        1                         0   \n",
       "3                        0                         0   \n",
       "4                        0                         0   \n",
       "...                    ...                       ...   \n",
       "6035                     1                         0   \n",
       "6036                     0                         0   \n",
       "6037                     0                         0   \n",
       "6038                     0                         0   \n",
       "6039                     0                         0   \n",
       "\n",
       "      occupation_technician/engineer  occupation_tradesman/craftsman  \\\n",
       "0                                  0                               0   \n",
       "1                                  0                               0   \n",
       "2                                  0                               0   \n",
       "3                                  0                               0   \n",
       "4                                  0                               0   \n",
       "...                              ...                             ...   \n",
       "6035                               0                               0   \n",
       "6036                               0                               0   \n",
       "6037                               0                               0   \n",
       "6038                               0                               0   \n",
       "6039                               0                               0   \n",
       "\n",
       "      occupation_unemployed  occupation_writer  \n",
       "0                         0                  0  \n",
       "1                         0                  0  \n",
       "2                         0                  0  \n",
       "3                         0                  0  \n",
       "4                         0                  1  \n",
       "...                     ...                ...  \n",
       "6035                      0                  0  \n",
       "6036                      0                  0  \n",
       "6037                      0                  0  \n",
       "6038                      0                  0  \n",
       "6039                      0                  0  \n",
       "\n",
       "[6040 rows x 30 columns]"
      ]
     },
     "execution_count": 5,
     "metadata": {},
     "output_type": "execute_result"
    }
   ],
   "source": [
    "type(encode_attribute)\n",
    "encode_attribute"
   ]
  },
  {
   "cell_type": "code",
   "execution_count": 6,
   "metadata": {},
   "outputs": [
    {
     "data": {
      "text/plain": [
       "(6040, 30)"
      ]
     },
     "execution_count": 6,
     "metadata": {},
     "output_type": "execute_result"
    }
   ],
   "source": [
    "user_boolean_embedding = encode_attribute.to_numpy()[:,:]\n",
    "user_boolean_embedding.shape"
   ]
  },
  {
   "cell_type": "code",
   "execution_count": 7,
   "metadata": {},
   "outputs": [],
   "source": [
    "user_embedding = torch.load('./KG_embedding/300_epochs_DistMult_gpu34.pt', map_location ='cpu')\n",
    "# user_embedding = user_embedding.numpy()"
   ]
  },
  {
   "cell_type": "code",
   "execution_count": 8,
   "metadata": {},
   "outputs": [
    {
     "data": {
      "text/plain": [
       "torch.Size([6040, 50])"
      ]
     },
     "execution_count": 8,
     "metadata": {},
     "output_type": "execute_result"
    }
   ],
   "source": [
    "user_embedding.shape"
   ]
  },
  {
   "cell_type": "markdown",
   "metadata": {},
   "source": [
    "# Weights Interpretation"
   ]
  },
  {
   "cell_type": "code",
   "execution_count": 10,
   "metadata": {},
   "outputs": [
    {
     "data": {
      "text/plain": [
       "['gender_F',\n",
       " 'gender_M',\n",
       " 'age_1',\n",
       " 'age_18',\n",
       " 'age_25',\n",
       " 'age_35',\n",
       " 'age_45',\n",
       " 'age_50',\n",
       " 'age_56',\n",
       " 'occupation_K-12 student',\n",
       " 'occupation_academic/educator',\n",
       " 'occupation_artist',\n",
       " 'occupation_clerical/admin',\n",
       " 'occupation_college/grad student',\n",
       " 'occupation_customer service',\n",
       " 'occupation_doctor/health care',\n",
       " 'occupation_executive/managerial',\n",
       " 'occupation_farmer',\n",
       " 'occupation_homemaker',\n",
       " 'occupation_lawyer',\n",
       " 'occupation_other',\n",
       " 'occupation_programmer',\n",
       " 'occupation_retired',\n",
       " 'occupation_sales/marketing',\n",
       " 'occupation_scientist',\n",
       " 'occupation_self-employed',\n",
       " 'occupation_technician/engineer',\n",
       " 'occupation_tradesman/craftsman',\n",
       " 'occupation_unemployed',\n",
       " 'occupation_writer']"
      ]
     },
     "execution_count": 10,
     "metadata": {},
     "output_type": "execute_result"
    }
   ],
   "source": [
    "user_attribute_columns = [col for col in encode_attribute.columns if col != 'UserID']\n",
    "user_attribute_names = user_attribute_columns\n",
    "user_attribute_names"
   ]
  },
  {
   "cell_type": "code",
   "execution_count": 11,
   "metadata": {},
   "outputs": [
    {
     "data": {
      "text/plain": [
       "['gender_F',\n",
       " 'gender_M',\n",
       " 'age_1',\n",
       " 'age_18',\n",
       " 'age_25',\n",
       " 'age_35',\n",
       " 'age_45',\n",
       " 'age_50',\n",
       " 'age_56',\n",
       " 'K-12 std',\n",
       " 'educator',\n",
       " 'artist',\n",
       " 'clerical',\n",
       " 'col/grad std',\n",
       " 'cust service',\n",
       " 'doctor',\n",
       " 'exec/mgr',\n",
       " 'farmer',\n",
       " 'homemaker',\n",
       " 'lawyer',\n",
       " 'other',\n",
       " 'programmer',\n",
       " 'retired',\n",
       " 'sales/mkt',\n",
       " 'scientist',\n",
       " 'self-emp',\n",
       " 'tech/eng',\n",
       " 'trades',\n",
       " 'unemployed',\n",
       " 'writer']"
      ]
     },
     "execution_count": 11,
     "metadata": {},
     "output_type": "execute_result"
    }
   ],
   "source": [
    "# Gender and Age remain unchanged\n",
    "attribute_labels = [\n",
    "    \"gender_F\",       # Female\n",
    "    \"gender_M\",       # Male\n",
    "    \"age_1\",          # Age 1\n",
    "    \"age_18\",         # Age 18\n",
    "    \"age_25\",         # Age 25\n",
    "    \"age_35\",         # Age 35\n",
    "    \"age_45\",         # Age 45\n",
    "    \"age_50\",         # Age 50\n",
    "    \"age_56\"          # Age 56\n",
    "]\n",
    "\n",
    "# Occupation abbreviations\n",
    "occupation_mapping = {\n",
    "    \"K-12 student\": \"K-12 std\",\n",
    "    \"academic/educator\": \"educator\",\n",
    "    \"artist\": \"artist\",\n",
    "    \"clerical/admin\": \"clerical\",\n",
    "    \"college/grad student\": \"col/grad std\",\n",
    "    \"customer service\": \"cust service\",\n",
    "    \"doctor/health care\": \"doctor\",\n",
    "    \"executive/managerial\": \"exec/mgr\",\n",
    "    \"farmer\": \"farmer\",\n",
    "    \"homemaker\": \"homemaker\",\n",
    "    \"lawyer\": \"lawyer\",\n",
    "    \"other\": \"other\",\n",
    "    \"programmer\": \"programmer\",\n",
    "    \"retired\": \"retired\",\n",
    "    \"sales/marketing\": \"sales/mkt\",\n",
    "    \"scientist\": \"scientist\",\n",
    "    \"self-employed\": \"self-emp\",\n",
    "    \"technician/engineer\": \"tech/eng\",\n",
    "    \"tradesman/craftsman\": \"trades\",\n",
    "    \"unemployed\": \"unemployed\",\n",
    "    \"writer\": \"writer\"\n",
    "}\n",
    "\n",
    "# Adding abbreviated occupation labels to the main list\n",
    "abbreviated_occupations = [\n",
    "    value for key, value in occupation_mapping.items()\n",
    "]\n",
    "\n",
    "# Combine gender, age, and occupations\n",
    "user_attribute_names = attribute_labels + abbreviated_occupations\n",
    "\n",
    "user_attribute_names\n"
   ]
  },
  {
   "cell_type": "code",
   "execution_count": 12,
   "metadata": {},
   "outputs": [],
   "source": [
    "user_embedding_names = [i+1 for i in range(50)]"
   ]
  },
  {
   "cell_type": "code",
   "execution_count": 24,
   "metadata": {},
   "outputs": [],
   "source": [
    "import matplotlib.pyplot as plt\n",
    "from sklearn.cross_decomposition import CCA\n",
    "import numpy as np\n",
    "\n",
    "# Assuming user_matrix and movie_matrix are already defined and preprocessed if necessary\n",
    "\n",
    "# Initialize CCA with the number of components to compute\n",
    "n_components = 10  # You want to look at the first component\n",
    "num_comps_to_save = 10\n",
    "cca = CCA(n_components)\n",
    "\n",
    "# Fit CCA on the two datasets\n",
    "cca.fit(user_boolean_embedding, user_embedding)  # Excluding the ID columns\n",
    "\n",
    "# Retrieve the canonical coefficients for the second component\n",
    "# user_attr_weights, user_emb_weights = cca.x_weights_[:, 1], cca.y_weights_[:, 1]\n",
    "user_attr_weights_multi_comp = cca.x_weights_[:, :num_comps_to_save]\n",
    "user_emb_weights_multi_comp = cca.y_weights_[:, :num_comps_to_save]\n"
   ]
  },
  {
   "cell_type": "code",
   "execution_count": 30,
   "metadata": {},
   "outputs": [
    {
     "name": "stdout",
     "output_type": "stream",
     "text": [
      "\n",
      "Saved combined CCA weights to cca_weights_multi_comp.pkl\n"
     ]
    }
   ],
   "source": [
    "import pickle\n",
    "data_to_pickle = {\n",
    "    'user_attr_weights': user_attr_weights_multi_comp,\n",
    "    'user_emb_weights': user_emb_weights_multi_comp,\n",
    "    'num_components_saved': num_comps_to_save\n",
    "}\n",
    "\n",
    "pickle_filename_combined = 'cca_weights_multi_comp.pkl'\n",
    "with open(pickle_filename_combined, 'wb') as f: # 'wb' for Write Binary mode\n",
    "    pickle.dump(data_to_pickle, f)\n",
    "\n",
    "print(f\"\\nSaved combined CCA weights to {pickle_filename_combined}\")"
   ]
  },
  {
   "cell_type": "code",
   "execution_count": 32,
   "metadata": {},
   "outputs": [
    {
     "name": "stdout",
     "output_type": "stream",
     "text": [
      "\n",
      "Loaded user_attr_weights (shape: (30, 10)) from pickle.\n",
      "Loaded user_emb_weights (shape: (50, 10)) from pickle.\n",
      "Loaded num_components_saved: 10 from pickle.\n"
     ]
    }
   ],
   "source": [
    "with open(pickle_filename_combined, 'rb') as f: # 'rb' for Read Binary mode\n",
    "    loaded_data = pickle.load(f)\n",
    "loaded_attr_weights = loaded_data['user_attr_weights']\n",
    "loaded_emb_weights = loaded_data['user_emb_weights']§§§§§§§§§§§\n",
    "loaded_num_components = loaded_data['num_components_saved']\n",
    "print(f\"\\nLoaded user_attr_weights (shape: {loaded_attr_weights.shape}) from pickle.\")\n",
    "print(f\"Loaded user_emb_weights (shape: {loaded_emb_weights.shape}) from pickle.\")\n",
    "print(f\"Loaded num_components_saved: {loaded_num_components} from pickle.\")\n"
   ]
  },
  {
   "cell_type": "code",
   "execution_count": 25,
   "metadata": {},
   "outputs": [
    {
     "data": {
      "image/png": "[encoded data removed]",
      "text/plain": [
       "<Figure size 1008x288 with 2 Axes>"
      ]
     },
     "metadata": {
      "needs_background": "light"
     },
     "output_type": "display_data"
    }
   ],
   "source": [
    "# Function to create a bar plot with labels\n",
    "def plot_with_labels(weights, labels, title, ax):\n",
    "    ax.bar(np.arange(len(weights)), weights)\n",
    "    ax.set_title(title)\n",
    "    ax.set_xticks(np.arange(len(weights)))\n",
    "    ax.set_xticklabels(labels, rotation=90)\n",
    "    ax.set_ylabel('Weight')\n",
    "\n",
    "# Plotting the weight vectors with labels\n",
    "plt.figure(figsize=(14, 4))\n",
    "\n",
    "# User weights plot\n",
    "plt.subplot(1, 2, 1)\n",
    "plot_with_labels(user_attr_weights, user_attribute_names, 'User Attributes Weights (2nd Component)', plt.gca())\n",
    "\n",
    "# Movie weights plot\n",
    "plt.subplot(1, 2, 2)\n",
    "plot_with_labels(user_emb_weights, user_embedding_names, 'User Embedding Weights (2nd Component)', plt.gca())\n",
    "\n",
    "plt.tight_layout()\n",
    "plt.savefig('./user_weight_result/second_component.png', dpi=300, format='png', bbox_inches='tight')\n",
    "plt.show()"
   ]
  },
  {
   "cell_type": "code",
   "execution_count": 30,
   "metadata": {},
   "outputs": [
    {
     "data": {
      "image/png": "[encoded data removed]",
      "text/plain": [
       "<Figure size 1008x288 with 2 Axes>"
      ]
     },
     "metadata": {
      "needs_background": "light"
     },
     "output_type": "display_data"
    }
   ],
   "source": [
    "import matplotlib.pyplot as plt\n",
    "from sklearn.cross_decomposition import CCA\n",
    "import numpy as np\n",
    "\n",
    "# Assuming user_matrix and movie_matrix are already defined and preprocessed if necessary\n",
    "\n",
    "# Initialize CCA with the number of components to compute\n",
    "n_components = 4  # You want to look at the first component\n",
    "cca = CCA(n_components)\n",
    "\n",
    "# Fit CCA on the two datasets\n",
    "cca.fit(user_boolean_embedding, user_embedding)  # Excluding the ID columns\n",
    "\n",
    "# Retrieve the canonical coefficients for the second component\n",
    "user_attr_weights, user_emb_weights = cca.x_weights_[:, 2], cca.y_weights_[:, 2]\n",
    "# Function to create a bar plot with labels\n",
    "def plot_with_labels(weights, labels, title, ax):\n",
    "    ax.bar(np.arange(len(weights)), weights)\n",
    "    ax.set_title(title)\n",
    "    ax.set_xticks(np.arange(len(weights)))\n",
    "    ax.set_xticklabels(labels, rotation=90)\n",
    "    ax.set_ylabel('Weight')\n",
    "\n",
    "# Plotting the weight vectors with labels\n",
    "plt.figure(figsize=(14, 4))\n",
    "\n",
    "# User weights plot\n",
    "plt.subplot(1, 2, 1)\n",
    "plot_with_labels(user_attr_weights, user_attribute_names, 'User Attributes Weights (3rd Component)', plt.gca())\n",
    "\n",
    "# Movie weights plot\n",
    "plt.subplot(1, 2, 2)\n",
    "plot_with_labels(user_emb_weights, user_embedding_names, 'User Embedding Weights (3rd Component)', plt.gca())\n",
    "\n",
    "plt.tight_layout()\n",
    "plt.savefig('./user_weight_result/third_component.png', dpi=300, format='png', bbox_inches='tight')\n",
    "plt.show()"
   ]
  },
  {
   "cell_type": "markdown",
   "metadata": {},
   "source": [
    "# Rank"
   ]
  },
  {
   "cell_type": "code",
   "execution_count": 14,
   "metadata": {},
   "outputs": [],
   "source": [
    "np.random.seed(92)  # You can choose any number for the seed\n",
    "\n",
    "# Number of users to sample\n",
    "num_samples = 50\n",
    "\n",
    "sample_indices = np.random.choice(user_embedding.shape[0], num_samples, replace=False)\n",
    "\n",
    "# Extract the corresponding rows to get the sample\n",
    "sampled_users = user_embedding[sample_indices, :]"
   ]
  },
  {
   "cell_type": "code",
   "execution_count": 15,
   "metadata": {},
   "outputs": [],
   "source": [
    "import warnings\n",
    "warnings.filterwarnings('ignore')"
   ]
  },
  {
   "cell_type": "code",
   "execution_count": 16,
   "metadata": {},
   "outputs": [],
   "source": [
    "from sklearn.utils import shuffle\n",
    "user_embedding_shuffled = shuffle(user_embedding)"
   ]
  },
  {
   "cell_type": "code",
   "execution_count": 17,
   "metadata": {},
   "outputs": [
    {
     "name": "stdout",
     "output_type": "stream",
     "text": [
      "[[1.         0.43340398]\n",
      " [0.43340398 1.        ]]\n"
     ]
    }
   ],
   "source": [
    "from matplotlib import pyplot as plt\n",
    "from sklearn.cross_decomposition import CCA\n",
    "from sklearn.utils import shuffle\n",
    "\n",
    "\n",
    "X = user_boolean_embedding\n",
    "Y = user_embedding\n",
    "\n",
    "n_comps = min(X.shape[1], Y.shape[1])\n",
    "cca = CCA(n_components=n_comps)\n",
    "cca.fit(X, Y)\n",
    "X_c1, Y_c1 = cca.transform(X, Y)\n",
    "# print(X_c1[:, 0].shape)\n",
    "print(np.corrcoef(X_c1[:, 1], Y_c1[:, 1]))\n",
    "corrs1 = [np.corrcoef(X_c1[:, i], Y_c1[:, i])[0, 1] for i in range(n_comps)] \n",
    "# print(corrs1)"
   ]
  },
  {
   "cell_type": "code",
   "execution_count": 18,
   "metadata": {},
   "outputs": [
    {
     "name": "stdout",
     "output_type": "stream",
     "text": [
      "[[1.         0.59742061]\n",
      " [0.59742061 1.        ]]\n"
     ]
    }
   ],
   "source": [
    "print(np.corrcoef(X_c1[:, 0],Y_c1[:, 0]))"
   ]
  },
  {
   "cell_type": "code",
   "execution_count": 19,
   "metadata": {},
   "outputs": [
    {
     "data": {
      "text/plain": [
       "(6040, 30)"
      ]
     },
     "execution_count": 19,
     "metadata": {},
     "output_type": "execute_result"
    }
   ],
   "source": [
    "X_c1[:,].shape"
   ]
  },
  {
   "cell_type": "code",
   "execution_count": 20,
   "metadata": {},
   "outputs": [
    {
     "data": {
      "image/png": "[encoded data removed]",
      "text/plain": [
       "<Figure size 640x480 with 1 Axes>"
      ]
     },
     "metadata": {},
     "output_type": "display_data"
    }
   ],
   "source": [
    "from matplotlib import pyplot as plt\n",
    "from sklearn.cross_decomposition import CCA\n",
    "from sklearn.utils import shuffle\n",
    "\n",
    "    \n",
    "def plot_cca(X, Y):\n",
    "    # num of components\n",
    "#     n_comps = min(X.shape[1], Y.shape[1])\n",
    "    n_comps = min(X.shape[1], Y.shape[1])\n",
    "    cca = CCA(n_components=n_comps)\n",
    "    cca.fit(X, Y)\n",
    "    X_c1, Y_c1 = cca.transform(X, Y)\n",
    "    corrs1 = [np.corrcoef(X_c1[:, i], Y_c1[:, i])[0, 1] for i in range(n_comps)] \n",
    "    plt.plot(corrs1,'-b',label='real embedding')\n",
    "    i=0\n",
    "    while i < 100:\n",
    "        Y_shuffled = shuffle(Y)\n",
    "        cca1 = CCA(n_components=n_comps)\n",
    "        cca1.fit(X, Y_shuffled)\n",
    "        X_c2, Y_c2 = cca1.transform(X, Y_shuffled)  \n",
    "        corrs2 = [np.corrcoef(X_c2[:, i], Y_c2[:, i])[0, 1] for i in range(n_comps)]\n",
    "        i +=1\n",
    "        plt.plot(corrs2, '-y')\n",
    "        \n",
    "    plt.xticks(np.arange(n_comps))\n",
    "    plt.plot(corrs2, '-y',label='shuffled embedding')\n",
    "    plt.xticks(np.arange(n_comps), rotation=45)\n",
    "    plt.xlabel('CCA Component', fontweight='bold')\n",
    "    plt.ylabel('Correlation Coefficient', fontweight='bold')\n",
    "    plt.title('Correlation Coefficients for Original and Shuffled Data')\n",
    "    plt.legend(loc=\"upper right\")\n",
    "    plt.savefig('permuted_KG_CCA_Distmult.png')\n",
    "    plt.show()\n",
    "    \n",
    "plot_cca(user_boolean_embedding, user_embedding)"
   ]
  },
  {
   "cell_type": "markdown",
   "metadata": {},
   "source": [
    "# Different Training Stages"
   ]
  },
  {
   "cell_type": "code",
   "execution_count": 22,
   "metadata": {},
   "outputs": [],
   "source": [
    "epochs300_embedding = torch.load('../../PycharmProjects/MovieLens/embedding/300epochs.pt', map_location ='cpu')\n",
    "epochs5_embedding = torch.load('../../PycharmProjects/MovieLens/embedding/5epochs.pt', map_location ='cpu')"
   ]
  },
  {
   "cell_type": "code",
   "execution_count": 25,
   "metadata": {},
   "outputs": [
    {
     "data": {
      "image/png": "[encoded data removed]",
      "text/plain": [
       "<Figure size 640x480 with 1 Axes>"
      ]
     },
     "metadata": {},
     "output_type": "display_data"
    }
   ],
   "source": [
    "import numpy as np\n",
    "import matplotlib.pyplot as plt\n",
    "from sklearn.cross_decomposition import CCA\n",
    "from sklearn.utils import shuffle\n",
    "\n",
    "def plot_cca(user_boolean_embedding, group1_embedding, group2_embedding):\n",
    "    # Number of components is the minimum number of features across all embeddings\n",
    "    n_comps = min(user_boolean_embedding.shape[1], group1_embedding.shape[1], group2_embedding.shape[1])\n",
    "    \n",
    "    # Setup and perform CCA for Group 1\n",
    "    cca1 = CCA(n_components=n_comps)\n",
    "    cca1.fit(user_boolean_embedding, group1_embedding)\n",
    "    X_c1, Y_c1 = cca1.transform(user_boolean_embedding, group1_embedding)\n",
    "    corrs1 = [np.corrcoef(X_c1[:, i], Y_c1[:, i])[0, 1] for i in range(n_comps)]\n",
    "    \n",
    "    # Setup and perform CCA for Group 2\n",
    "    cca2 = CCA(n_components=n_comps)\n",
    "    cca2.fit(user_boolean_embedding, group2_embedding)\n",
    "    X_c2, Y_c2 = cca2.transform(user_boolean_embedding, group2_embedding)\n",
    "    corrs2 = [np.corrcoef(X_c2[:, i], Y_c2[:, i])[0, 1] for i in range(n_comps)]\n",
    "\n",
    "    # Randomly shuffle user_boolean_embedding and perform CCA with one of the groups (e.g., Group 1)\n",
    "    shuffled_embedding = shuffle(user_boolean_embedding, random_state=42)\n",
    "    cca_random = CCA(n_components=n_comps)\n",
    "    cca_random.fit(shuffled_embedding, group1_embedding)\n",
    "    X_cr, Y_cr = cca_random.transform(shuffled_embedding, group1_embedding)\n",
    "    corrs_random = [np.corrcoef(X_cr[:, i], Y_cr[:, i])[0, 1] for i in range(n_comps)]\n",
    "    \n",
    "    # Create a bar plot for the correlations\n",
    "    fig, ax = plt.subplots()\n",
    "    ax.bar(np.arange(n_comps) - 0.2, corrs1, width=0.2, color='blue', alpha=0.7, label='Late Training Stage')\n",
    "    ax.bar(np.arange(n_comps), corrs2, width=0.2, color='green', alpha=0.7, label='Early Training Stage')\n",
    "    ax.bar(np.arange(n_comps) + 0.2, corrs_random, width=0.2, color='red', alpha=0.7, label='Random Shuffled')\n",
    "\n",
    "    # Set x-axis and y-axis labels\n",
    "    plt.xlabel('CCA Component Index', fontsize=14)\n",
    "    plt.ylabel('Correlation between Components', fontsize=14)\n",
    "    \n",
    "    # Add legend\n",
    "    plt.legend(loc='upper right')\n",
    "    \n",
    "    # Adjust spacing and layout\n",
    "    plt.tight_layout()\n",
    "    \n",
    "    # Display the plot\n",
    "    plt.show()\n",
    "\n",
    "# Example usage:\n",
    "plot_cca(user_boolean_embedding, epochs300_embedding, epochs5_embedding)\n"
   ]
  },
  {
   "cell_type": "code",
   "execution_count": 56,
   "metadata": {},
   "outputs": [
    {
     "ename": "KeyboardInterrupt",
     "evalue": "",
     "output_type": "error",
     "traceback": [
      "\u001B[0;31m---------------------------------------------------------------------------\u001B[0m",
      "\u001B[0;31mKeyboardInterrupt\u001B[0m                         Traceback (most recent call last)",
      "\u001B[0;32m/var/folders/8l/35s7q8ks36v0n8nww7n794tc0000gn/T/ipykernel_94556/4036564269.py\u001B[0m in \u001B[0;36m<module>\u001B[0;34m\u001B[0m\n\u001B[1;32m     44\u001B[0m     \u001B[0mplt\u001B[0m\u001B[0;34m.\u001B[0m\u001B[0mshow\u001B[0m\u001B[0;34m(\u001B[0m\u001B[0;34m)\u001B[0m\u001B[0;34m\u001B[0m\u001B[0;34m\u001B[0m\u001B[0m\n\u001B[1;32m     45\u001B[0m \u001B[0;34m\u001B[0m\u001B[0m\n\u001B[0;32m---> 46\u001B[0;31m \u001B[0mplot_cca\u001B[0m\u001B[0;34m(\u001B[0m\u001B[0muser_boolean_embedding\u001B[0m\u001B[0;34m,\u001B[0m \u001B[0muser_embedding\u001B[0m\u001B[0;34m)\u001B[0m\u001B[0;34m\u001B[0m\u001B[0;34m\u001B[0m\u001B[0m\n\u001B[0m",
      "\u001B[0;32m/var/folders/8l/35s7q8ks36v0n8nww7n794tc0000gn/T/ipykernel_94556/4036564269.py\u001B[0m in \u001B[0;36mplot_cca\u001B[0;34m(X, Y)\u001B[0m\n\u001B[1;32m     20\u001B[0m         \u001B[0muser_embedding_shuffled\u001B[0m \u001B[0;34m=\u001B[0m \u001B[0mshuffle\u001B[0m\u001B[0;34m(\u001B[0m\u001B[0muser_embedding\u001B[0m\u001B[0;34m)\u001B[0m\u001B[0;34m\u001B[0m\u001B[0;34m\u001B[0m\u001B[0m\n\u001B[1;32m     21\u001B[0m         \u001B[0mcca1\u001B[0m \u001B[0;34m=\u001B[0m \u001B[0mCCA\u001B[0m\u001B[0;34m(\u001B[0m\u001B[0mn_components\u001B[0m\u001B[0;34m=\u001B[0m\u001B[0mn_comps\u001B[0m\u001B[0;34m)\u001B[0m\u001B[0;34m\u001B[0m\u001B[0;34m\u001B[0m\u001B[0m\n\u001B[0;32m---> 22\u001B[0;31m         \u001B[0mcca1\u001B[0m\u001B[0;34m.\u001B[0m\u001B[0mfit\u001B[0m\u001B[0;34m(\u001B[0m\u001B[0mX\u001B[0m\u001B[0;34m,\u001B[0m \u001B[0muser_embedding_shuffled\u001B[0m\u001B[0;34m)\u001B[0m\u001B[0;34m\u001B[0m\u001B[0;34m\u001B[0m\u001B[0m\n\u001B[0m\u001B[1;32m     23\u001B[0m         \u001B[0mX_c2\u001B[0m\u001B[0;34m,\u001B[0m \u001B[0mY_c2\u001B[0m \u001B[0;34m=\u001B[0m \u001B[0mcca1\u001B[0m\u001B[0;34m.\u001B[0m\u001B[0mtransform\u001B[0m\u001B[0;34m(\u001B[0m\u001B[0mX\u001B[0m\u001B[0;34m,\u001B[0m \u001B[0muser_embedding_shuffled\u001B[0m\u001B[0;34m)\u001B[0m\u001B[0;34m\u001B[0m\u001B[0;34m\u001B[0m\u001B[0m\n\u001B[1;32m     24\u001B[0m         \u001B[0mcorrs2\u001B[0m \u001B[0;34m=\u001B[0m \u001B[0;34m[\u001B[0m\u001B[0mnp\u001B[0m\u001B[0;34m.\u001B[0m\u001B[0mcorrcoef\u001B[0m\u001B[0;34m(\u001B[0m\u001B[0mX_c2\u001B[0m\u001B[0;34m[\u001B[0m\u001B[0;34m:\u001B[0m\u001B[0;34m,\u001B[0m \u001B[0mi\u001B[0m\u001B[0;34m]\u001B[0m\u001B[0;34m,\u001B[0m \u001B[0mY_c2\u001B[0m\u001B[0;34m[\u001B[0m\u001B[0;34m:\u001B[0m\u001B[0;34m,\u001B[0m \u001B[0mi\u001B[0m\u001B[0;34m]\u001B[0m\u001B[0;34m)\u001B[0m\u001B[0;34m[\u001B[0m\u001B[0;36m0\u001B[0m\u001B[0;34m,\u001B[0m \u001B[0;36m1\u001B[0m\u001B[0;34m]\u001B[0m \u001B[0;32mfor\u001B[0m \u001B[0mi\u001B[0m \u001B[0;32min\u001B[0m \u001B[0mrange\u001B[0m\u001B[0;34m(\u001B[0m\u001B[0mn_comps\u001B[0m\u001B[0;34m)\u001B[0m\u001B[0;34m]\u001B[0m\u001B[0;34m\u001B[0m\u001B[0;34m\u001B[0m\u001B[0m\n",
      "\u001B[0;32m/opt/anaconda3/lib/python3.9/site-packages/sklearn/cross_decomposition/_pls.py\u001B[0m in \u001B[0;36mfit\u001B[0;34m(self, X, Y)\u001B[0m\n\u001B[1;32m    292\u001B[0m                         \u001B[0my_weights\u001B[0m\u001B[0;34m,\u001B[0m\u001B[0;34m\u001B[0m\u001B[0;34m\u001B[0m\u001B[0m\n\u001B[1;32m    293\u001B[0m                         \u001B[0mn_iter_\u001B[0m\u001B[0;34m,\u001B[0m\u001B[0;34m\u001B[0m\u001B[0;34m\u001B[0m\u001B[0m\n\u001B[0;32m--> 294\u001B[0;31m                     \u001B[0;34m)\u001B[0m \u001B[0;34m=\u001B[0m \u001B[0m_get_first_singular_vectors_power_method\u001B[0m\u001B[0;34m(\u001B[0m\u001B[0;34m\u001B[0m\u001B[0;34m\u001B[0m\u001B[0m\n\u001B[0m\u001B[1;32m    295\u001B[0m                         \u001B[0mXk\u001B[0m\u001B[0;34m,\u001B[0m\u001B[0;34m\u001B[0m\u001B[0;34m\u001B[0m\u001B[0m\n\u001B[1;32m    296\u001B[0m                         \u001B[0mYk\u001B[0m\u001B[0;34m,\u001B[0m\u001B[0;34m\u001B[0m\u001B[0;34m\u001B[0m\u001B[0m\n",
      "\u001B[0;32m/opt/anaconda3/lib/python3.9/site-packages/sklearn/cross_decomposition/_pls.py\u001B[0m in \u001B[0;36m_get_first_singular_vectors_power_method\u001B[0;34m(X, Y, mode, max_iter, tol, norm_y_weights)\u001B[0m\n\u001B[1;32m     96\u001B[0m             \u001B[0my_weights\u001B[0m \u001B[0;34m/=\u001B[0m \u001B[0mnp\u001B[0m\u001B[0;34m.\u001B[0m\u001B[0msqrt\u001B[0m\u001B[0;34m(\u001B[0m\u001B[0mnp\u001B[0m\u001B[0;34m.\u001B[0m\u001B[0mdot\u001B[0m\u001B[0;34m(\u001B[0m\u001B[0my_weights\u001B[0m\u001B[0;34m,\u001B[0m \u001B[0my_weights\u001B[0m\u001B[0;34m)\u001B[0m\u001B[0;34m)\u001B[0m \u001B[0;34m+\u001B[0m \u001B[0meps\u001B[0m\u001B[0;34m\u001B[0m\u001B[0;34m\u001B[0m\u001B[0m\n\u001B[1;32m     97\u001B[0m \u001B[0;34m\u001B[0m\u001B[0m\n\u001B[0;32m---> 98\u001B[0;31m         \u001B[0my_score\u001B[0m \u001B[0;34m=\u001B[0m \u001B[0mnp\u001B[0m\u001B[0;34m.\u001B[0m\u001B[0mdot\u001B[0m\u001B[0;34m(\u001B[0m\u001B[0mY\u001B[0m\u001B[0;34m,\u001B[0m \u001B[0my_weights\u001B[0m\u001B[0;34m)\u001B[0m \u001B[0;34m/\u001B[0m \u001B[0;34m(\u001B[0m\u001B[0mnp\u001B[0m\u001B[0;34m.\u001B[0m\u001B[0mdot\u001B[0m\u001B[0;34m(\u001B[0m\u001B[0my_weights\u001B[0m\u001B[0;34m,\u001B[0m \u001B[0my_weights\u001B[0m\u001B[0;34m)\u001B[0m \u001B[0;34m+\u001B[0m \u001B[0meps\u001B[0m\u001B[0;34m)\u001B[0m\u001B[0;34m\u001B[0m\u001B[0;34m\u001B[0m\u001B[0m\n\u001B[0m\u001B[1;32m     99\u001B[0m \u001B[0;34m\u001B[0m\u001B[0m\n\u001B[1;32m    100\u001B[0m         \u001B[0mx_weights_diff\u001B[0m \u001B[0;34m=\u001B[0m \u001B[0mx_weights\u001B[0m \u001B[0;34m-\u001B[0m \u001B[0mx_weights_old\u001B[0m\u001B[0;34m\u001B[0m\u001B[0;34m\u001B[0m\u001B[0m\n",
      "\u001B[0;32m/opt/anaconda3/lib/python3.9/site-packages/numpy/core/overrides.py\u001B[0m in \u001B[0;36mdot\u001B[0;34m(*args, **kwargs)\u001B[0m\n",
      "\u001B[0;31mKeyboardInterrupt\u001B[0m: "
     ]
    },
    {
     "name": "stdout",
     "output_type": "stream",
     "text": [
      "Error in callback <function _draw_all_if_interactive at 0x7fdd5a8984c0> (for post_execute):\n"
     ]
    },
    {
     "ename": "KeyboardInterrupt",
     "evalue": "",
     "output_type": "error",
     "traceback": [
      "\u001B[0;31m---------------------------------------------------------------------------\u001B[0m",
      "\u001B[0;31mKeyboardInterrupt\u001B[0m                         Traceback (most recent call last)",
      "\u001B[0;32m/opt/anaconda3/lib/python3.9/site-packages/matplotlib/pyplot.py\u001B[0m in \u001B[0;36m_draw_all_if_interactive\u001B[0;34m()\u001B[0m\n\u001B[1;32m    118\u001B[0m \u001B[0;32mdef\u001B[0m \u001B[0m_draw_all_if_interactive\u001B[0m\u001B[0;34m(\u001B[0m\u001B[0;34m)\u001B[0m\u001B[0;34m:\u001B[0m\u001B[0;34m\u001B[0m\u001B[0;34m\u001B[0m\u001B[0m\n\u001B[1;32m    119\u001B[0m     \u001B[0;32mif\u001B[0m \u001B[0mmatplotlib\u001B[0m\u001B[0;34m.\u001B[0m\u001B[0mis_interactive\u001B[0m\u001B[0;34m(\u001B[0m\u001B[0;34m)\u001B[0m\u001B[0;34m:\u001B[0m\u001B[0;34m\u001B[0m\u001B[0;34m\u001B[0m\u001B[0m\n\u001B[0;32m--> 120\u001B[0;31m         \u001B[0mdraw_all\u001B[0m\u001B[0;34m(\u001B[0m\u001B[0;34m)\u001B[0m\u001B[0;34m\u001B[0m\u001B[0;34m\u001B[0m\u001B[0m\n\u001B[0m\u001B[1;32m    121\u001B[0m \u001B[0;34m\u001B[0m\u001B[0m\n\u001B[1;32m    122\u001B[0m \u001B[0;34m\u001B[0m\u001B[0m\n",
      "\u001B[0;32m/opt/anaconda3/lib/python3.9/site-packages/matplotlib/_pylab_helpers.py\u001B[0m in \u001B[0;36mdraw_all\u001B[0;34m(cls, force)\u001B[0m\n\u001B[1;32m    130\u001B[0m         \u001B[0;32mfor\u001B[0m \u001B[0mmanager\u001B[0m \u001B[0;32min\u001B[0m \u001B[0mcls\u001B[0m\u001B[0;34m.\u001B[0m\u001B[0mget_all_fig_managers\u001B[0m\u001B[0;34m(\u001B[0m\u001B[0;34m)\u001B[0m\u001B[0;34m:\u001B[0m\u001B[0;34m\u001B[0m\u001B[0;34m\u001B[0m\u001B[0m\n\u001B[1;32m    131\u001B[0m             \u001B[0;32mif\u001B[0m \u001B[0mforce\u001B[0m \u001B[0;32mor\u001B[0m \u001B[0mmanager\u001B[0m\u001B[0;34m.\u001B[0m\u001B[0mcanvas\u001B[0m\u001B[0;34m.\u001B[0m\u001B[0mfigure\u001B[0m\u001B[0;34m.\u001B[0m\u001B[0mstale\u001B[0m\u001B[0;34m:\u001B[0m\u001B[0;34m\u001B[0m\u001B[0;34m\u001B[0m\u001B[0m\n\u001B[0;32m--> 132\u001B[0;31m                 \u001B[0mmanager\u001B[0m\u001B[0;34m.\u001B[0m\u001B[0mcanvas\u001B[0m\u001B[0;34m.\u001B[0m\u001B[0mdraw_idle\u001B[0m\u001B[0;34m(\u001B[0m\u001B[0;34m)\u001B[0m\u001B[0;34m\u001B[0m\u001B[0;34m\u001B[0m\u001B[0m\n\u001B[0m\u001B[1;32m    133\u001B[0m \u001B[0;34m\u001B[0m\u001B[0m\n\u001B[1;32m    134\u001B[0m \u001B[0;34m\u001B[0m\u001B[0m\n",
      "\u001B[0;32m/opt/anaconda3/lib/python3.9/site-packages/matplotlib/backend_bases.py\u001B[0m in \u001B[0;36mdraw_idle\u001B[0;34m(self, *args, **kwargs)\u001B[0m\n\u001B[1;32m   2080\u001B[0m         \u001B[0;32mif\u001B[0m \u001B[0;32mnot\u001B[0m \u001B[0mself\u001B[0m\u001B[0;34m.\u001B[0m\u001B[0m_is_idle_drawing\u001B[0m\u001B[0;34m:\u001B[0m\u001B[0;34m\u001B[0m\u001B[0;34m\u001B[0m\u001B[0m\n\u001B[1;32m   2081\u001B[0m             \u001B[0;32mwith\u001B[0m \u001B[0mself\u001B[0m\u001B[0;34m.\u001B[0m\u001B[0m_idle_draw_cntx\u001B[0m\u001B[0;34m(\u001B[0m\u001B[0;34m)\u001B[0m\u001B[0;34m:\u001B[0m\u001B[0;34m\u001B[0m\u001B[0;34m\u001B[0m\u001B[0m\n\u001B[0;32m-> 2082\u001B[0;31m                 \u001B[0mself\u001B[0m\u001B[0;34m.\u001B[0m\u001B[0mdraw\u001B[0m\u001B[0;34m(\u001B[0m\u001B[0;34m*\u001B[0m\u001B[0margs\u001B[0m\u001B[0;34m,\u001B[0m \u001B[0;34m**\u001B[0m\u001B[0mkwargs\u001B[0m\u001B[0;34m)\u001B[0m\u001B[0;34m\u001B[0m\u001B[0;34m\u001B[0m\u001B[0m\n\u001B[0m\u001B[1;32m   2083\u001B[0m \u001B[0;34m\u001B[0m\u001B[0m\n\u001B[1;32m   2084\u001B[0m     \u001B[0;34m@\u001B[0m\u001B[0mproperty\u001B[0m\u001B[0;34m\u001B[0m\u001B[0;34m\u001B[0m\u001B[0m\n",
      "\u001B[0;32m/opt/anaconda3/lib/python3.9/site-packages/matplotlib/backends/backend_agg.py\u001B[0m in \u001B[0;36mdraw\u001B[0;34m(self)\u001B[0m\n\u001B[1;32m    398\u001B[0m              (self.toolbar._wait_cursor_for_draw_cm() if self.toolbar\n\u001B[1;32m    399\u001B[0m               else nullcontext()):\n\u001B[0;32m--> 400\u001B[0;31m             \u001B[0mself\u001B[0m\u001B[0;34m.\u001B[0m\u001B[0mfigure\u001B[0m\u001B[0;34m.\u001B[0m\u001B[0mdraw\u001B[0m\u001B[0;34m(\u001B[0m\u001B[0mself\u001B[0m\u001B[0;34m.\u001B[0m\u001B[0mrenderer\u001B[0m\u001B[0;34m)\u001B[0m\u001B[0;34m\u001B[0m\u001B[0;34m\u001B[0m\u001B[0m\n\u001B[0m\u001B[1;32m    401\u001B[0m             \u001B[0;31m# A GUI class may be need to update a window using this draw, so\u001B[0m\u001B[0;34m\u001B[0m\u001B[0;34m\u001B[0m\u001B[0m\n\u001B[1;32m    402\u001B[0m             \u001B[0;31m# don't forget to call the superclass.\u001B[0m\u001B[0;34m\u001B[0m\u001B[0;34m\u001B[0m\u001B[0m\n",
      "\u001B[0;32m/opt/anaconda3/lib/python3.9/site-packages/matplotlib/artist.py\u001B[0m in \u001B[0;36mdraw_wrapper\u001B[0;34m(artist, renderer, *args, **kwargs)\u001B[0m\n\u001B[1;32m     93\u001B[0m     \u001B[0;34m@\u001B[0m\u001B[0mwraps\u001B[0m\u001B[0;34m(\u001B[0m\u001B[0mdraw\u001B[0m\u001B[0;34m)\u001B[0m\u001B[0;34m\u001B[0m\u001B[0;34m\u001B[0m\u001B[0m\n\u001B[1;32m     94\u001B[0m     \u001B[0;32mdef\u001B[0m \u001B[0mdraw_wrapper\u001B[0m\u001B[0;34m(\u001B[0m\u001B[0martist\u001B[0m\u001B[0;34m,\u001B[0m \u001B[0mrenderer\u001B[0m\u001B[0;34m,\u001B[0m \u001B[0;34m*\u001B[0m\u001B[0margs\u001B[0m\u001B[0;34m,\u001B[0m \u001B[0;34m**\u001B[0m\u001B[0mkwargs\u001B[0m\u001B[0;34m)\u001B[0m\u001B[0;34m:\u001B[0m\u001B[0;34m\u001B[0m\u001B[0;34m\u001B[0m\u001B[0m\n\u001B[0;32m---> 95\u001B[0;31m         \u001B[0mresult\u001B[0m \u001B[0;34m=\u001B[0m \u001B[0mdraw\u001B[0m\u001B[0;34m(\u001B[0m\u001B[0martist\u001B[0m\u001B[0;34m,\u001B[0m \u001B[0mrenderer\u001B[0m\u001B[0;34m,\u001B[0m \u001B[0;34m*\u001B[0m\u001B[0margs\u001B[0m\u001B[0;34m,\u001B[0m \u001B[0;34m**\u001B[0m\u001B[0mkwargs\u001B[0m\u001B[0;34m)\u001B[0m\u001B[0;34m\u001B[0m\u001B[0;34m\u001B[0m\u001B[0m\n\u001B[0m\u001B[1;32m     96\u001B[0m         \u001B[0;32mif\u001B[0m \u001B[0mrenderer\u001B[0m\u001B[0;34m.\u001B[0m\u001B[0m_rasterizing\u001B[0m\u001B[0;34m:\u001B[0m\u001B[0;34m\u001B[0m\u001B[0;34m\u001B[0m\u001B[0m\n\u001B[1;32m     97\u001B[0m             \u001B[0mrenderer\u001B[0m\u001B[0;34m.\u001B[0m\u001B[0mstop_rasterizing\u001B[0m\u001B[0;34m(\u001B[0m\u001B[0;34m)\u001B[0m\u001B[0;34m\u001B[0m\u001B[0;34m\u001B[0m\u001B[0m\n",
      "\u001B[0;32m/opt/anaconda3/lib/python3.9/site-packages/matplotlib/artist.py\u001B[0m in \u001B[0;36mdraw_wrapper\u001B[0;34m(artist, renderer)\u001B[0m\n\u001B[1;32m     70\u001B[0m                 \u001B[0mrenderer\u001B[0m\u001B[0;34m.\u001B[0m\u001B[0mstart_filter\u001B[0m\u001B[0;34m(\u001B[0m\u001B[0;34m)\u001B[0m\u001B[0;34m\u001B[0m\u001B[0;34m\u001B[0m\u001B[0m\n\u001B[1;32m     71\u001B[0m \u001B[0;34m\u001B[0m\u001B[0m\n\u001B[0;32m---> 72\u001B[0;31m             \u001B[0;32mreturn\u001B[0m \u001B[0mdraw\u001B[0m\u001B[0;34m(\u001B[0m\u001B[0martist\u001B[0m\u001B[0;34m,\u001B[0m \u001B[0mrenderer\u001B[0m\u001B[0;34m)\u001B[0m\u001B[0;34m\u001B[0m\u001B[0;34m\u001B[0m\u001B[0m\n\u001B[0m\u001B[1;32m     73\u001B[0m         \u001B[0;32mfinally\u001B[0m\u001B[0;34m:\u001B[0m\u001B[0;34m\u001B[0m\u001B[0;34m\u001B[0m\u001B[0m\n\u001B[1;32m     74\u001B[0m             \u001B[0;32mif\u001B[0m \u001B[0martist\u001B[0m\u001B[0;34m.\u001B[0m\u001B[0mget_agg_filter\u001B[0m\u001B[0;34m(\u001B[0m\u001B[0;34m)\u001B[0m \u001B[0;32mis\u001B[0m \u001B[0;32mnot\u001B[0m \u001B[0;32mNone\u001B[0m\u001B[0;34m:\u001B[0m\u001B[0;34m\u001B[0m\u001B[0;34m\u001B[0m\u001B[0m\n",
      "\u001B[0;32m/opt/anaconda3/lib/python3.9/site-packages/matplotlib/figure.py\u001B[0m in \u001B[0;36mdraw\u001B[0;34m(self, renderer)\u001B[0m\n\u001B[1;32m   3173\u001B[0m \u001B[0;34m\u001B[0m\u001B[0m\n\u001B[1;32m   3174\u001B[0m             \u001B[0mself\u001B[0m\u001B[0;34m.\u001B[0m\u001B[0mpatch\u001B[0m\u001B[0;34m.\u001B[0m\u001B[0mdraw\u001B[0m\u001B[0;34m(\u001B[0m\u001B[0mrenderer\u001B[0m\u001B[0;34m)\u001B[0m\u001B[0;34m\u001B[0m\u001B[0;34m\u001B[0m\u001B[0m\n\u001B[0;32m-> 3175\u001B[0;31m             mimage._draw_list_compositing_images(\n\u001B[0m\u001B[1;32m   3176\u001B[0m                 renderer, self, artists, self.suppressComposite)\n\u001B[1;32m   3177\u001B[0m \u001B[0;34m\u001B[0m\u001B[0m\n",
      "\u001B[0;32m/opt/anaconda3/lib/python3.9/site-packages/matplotlib/image.py\u001B[0m in \u001B[0;36m_draw_list_compositing_images\u001B[0;34m(renderer, parent, artists, suppress_composite)\u001B[0m\n\u001B[1;32m    129\u001B[0m     \u001B[0;32mif\u001B[0m \u001B[0mnot_composite\u001B[0m \u001B[0;32mor\u001B[0m \u001B[0;32mnot\u001B[0m \u001B[0mhas_images\u001B[0m\u001B[0;34m:\u001B[0m\u001B[0;34m\u001B[0m\u001B[0;34m\u001B[0m\u001B[0m\n\u001B[1;32m    130\u001B[0m         \u001B[0;32mfor\u001B[0m \u001B[0ma\u001B[0m \u001B[0;32min\u001B[0m \u001B[0martists\u001B[0m\u001B[0;34m:\u001B[0m\u001B[0;34m\u001B[0m\u001B[0;34m\u001B[0m\u001B[0m\n\u001B[0;32m--> 131\u001B[0;31m             \u001B[0ma\u001B[0m\u001B[0;34m.\u001B[0m\u001B[0mdraw\u001B[0m\u001B[0;34m(\u001B[0m\u001B[0mrenderer\u001B[0m\u001B[0;34m)\u001B[0m\u001B[0;34m\u001B[0m\u001B[0;34m\u001B[0m\u001B[0m\n\u001B[0m\u001B[1;32m    132\u001B[0m     \u001B[0;32melse\u001B[0m\u001B[0;34m:\u001B[0m\u001B[0;34m\u001B[0m\u001B[0;34m\u001B[0m\u001B[0m\n\u001B[1;32m    133\u001B[0m         \u001B[0;31m# Composite any adjacent images together\u001B[0m\u001B[0;34m\u001B[0m\u001B[0;34m\u001B[0m\u001B[0m\n",
      "\u001B[0;32m/opt/anaconda3/lib/python3.9/site-packages/matplotlib/artist.py\u001B[0m in \u001B[0;36mdraw_wrapper\u001B[0;34m(artist, renderer)\u001B[0m\n\u001B[1;32m     70\u001B[0m                 \u001B[0mrenderer\u001B[0m\u001B[0;34m.\u001B[0m\u001B[0mstart_filter\u001B[0m\u001B[0;34m(\u001B[0m\u001B[0;34m)\u001B[0m\u001B[0;34m\u001B[0m\u001B[0;34m\u001B[0m\u001B[0m\n\u001B[1;32m     71\u001B[0m \u001B[0;34m\u001B[0m\u001B[0m\n\u001B[0;32m---> 72\u001B[0;31m             \u001B[0;32mreturn\u001B[0m \u001B[0mdraw\u001B[0m\u001B[0;34m(\u001B[0m\u001B[0martist\u001B[0m\u001B[0;34m,\u001B[0m \u001B[0mrenderer\u001B[0m\u001B[0;34m)\u001B[0m\u001B[0;34m\u001B[0m\u001B[0;34m\u001B[0m\u001B[0m\n\u001B[0m\u001B[1;32m     73\u001B[0m         \u001B[0;32mfinally\u001B[0m\u001B[0;34m:\u001B[0m\u001B[0;34m\u001B[0m\u001B[0;34m\u001B[0m\u001B[0m\n\u001B[1;32m     74\u001B[0m             \u001B[0;32mif\u001B[0m \u001B[0martist\u001B[0m\u001B[0;34m.\u001B[0m\u001B[0mget_agg_filter\u001B[0m\u001B[0;34m(\u001B[0m\u001B[0;34m)\u001B[0m \u001B[0;32mis\u001B[0m \u001B[0;32mnot\u001B[0m \u001B[0;32mNone\u001B[0m\u001B[0;34m:\u001B[0m\u001B[0;34m\u001B[0m\u001B[0;34m\u001B[0m\u001B[0m\n",
      "\u001B[0;32m/opt/anaconda3/lib/python3.9/site-packages/matplotlib/axes/_base.py\u001B[0m in \u001B[0;36mdraw\u001B[0;34m(self, renderer)\u001B[0m\n\u001B[1;32m   3062\u001B[0m             \u001B[0m_draw_rasterized\u001B[0m\u001B[0;34m(\u001B[0m\u001B[0mself\u001B[0m\u001B[0;34m.\u001B[0m\u001B[0mfigure\u001B[0m\u001B[0;34m,\u001B[0m \u001B[0martists_rasterized\u001B[0m\u001B[0;34m,\u001B[0m \u001B[0mrenderer\u001B[0m\u001B[0;34m)\u001B[0m\u001B[0;34m\u001B[0m\u001B[0;34m\u001B[0m\u001B[0m\n\u001B[1;32m   3063\u001B[0m \u001B[0;34m\u001B[0m\u001B[0m\n\u001B[0;32m-> 3064\u001B[0;31m         mimage._draw_list_compositing_images(\n\u001B[0m\u001B[1;32m   3065\u001B[0m             renderer, self, artists, self.figure.suppressComposite)\n\u001B[1;32m   3066\u001B[0m \u001B[0;34m\u001B[0m\u001B[0m\n",
      "\u001B[0;32m/opt/anaconda3/lib/python3.9/site-packages/matplotlib/image.py\u001B[0m in \u001B[0;36m_draw_list_compositing_images\u001B[0;34m(renderer, parent, artists, suppress_composite)\u001B[0m\n\u001B[1;32m    129\u001B[0m     \u001B[0;32mif\u001B[0m \u001B[0mnot_composite\u001B[0m \u001B[0;32mor\u001B[0m \u001B[0;32mnot\u001B[0m \u001B[0mhas_images\u001B[0m\u001B[0;34m:\u001B[0m\u001B[0;34m\u001B[0m\u001B[0;34m\u001B[0m\u001B[0m\n\u001B[1;32m    130\u001B[0m         \u001B[0;32mfor\u001B[0m \u001B[0ma\u001B[0m \u001B[0;32min\u001B[0m \u001B[0martists\u001B[0m\u001B[0;34m:\u001B[0m\u001B[0;34m\u001B[0m\u001B[0;34m\u001B[0m\u001B[0m\n\u001B[0;32m--> 131\u001B[0;31m             \u001B[0ma\u001B[0m\u001B[0;34m.\u001B[0m\u001B[0mdraw\u001B[0m\u001B[0;34m(\u001B[0m\u001B[0mrenderer\u001B[0m\u001B[0;34m)\u001B[0m\u001B[0;34m\u001B[0m\u001B[0;34m\u001B[0m\u001B[0m\n\u001B[0m\u001B[1;32m    132\u001B[0m     \u001B[0;32melse\u001B[0m\u001B[0;34m:\u001B[0m\u001B[0;34m\u001B[0m\u001B[0;34m\u001B[0m\u001B[0m\n\u001B[1;32m    133\u001B[0m         \u001B[0;31m# Composite any adjacent images together\u001B[0m\u001B[0;34m\u001B[0m\u001B[0;34m\u001B[0m\u001B[0m\n",
      "\u001B[0;32m/opt/anaconda3/lib/python3.9/site-packages/matplotlib/artist.py\u001B[0m in \u001B[0;36mdraw_wrapper\u001B[0;34m(artist, renderer)\u001B[0m\n\u001B[1;32m     70\u001B[0m                 \u001B[0mrenderer\u001B[0m\u001B[0;34m.\u001B[0m\u001B[0mstart_filter\u001B[0m\u001B[0;34m(\u001B[0m\u001B[0;34m)\u001B[0m\u001B[0;34m\u001B[0m\u001B[0;34m\u001B[0m\u001B[0m\n\u001B[1;32m     71\u001B[0m \u001B[0;34m\u001B[0m\u001B[0m\n\u001B[0;32m---> 72\u001B[0;31m             \u001B[0;32mreturn\u001B[0m \u001B[0mdraw\u001B[0m\u001B[0;34m(\u001B[0m\u001B[0martist\u001B[0m\u001B[0;34m,\u001B[0m \u001B[0mrenderer\u001B[0m\u001B[0;34m)\u001B[0m\u001B[0;34m\u001B[0m\u001B[0;34m\u001B[0m\u001B[0m\n\u001B[0m\u001B[1;32m     73\u001B[0m         \u001B[0;32mfinally\u001B[0m\u001B[0;34m:\u001B[0m\u001B[0;34m\u001B[0m\u001B[0;34m\u001B[0m\u001B[0m\n\u001B[1;32m     74\u001B[0m             \u001B[0;32mif\u001B[0m \u001B[0martist\u001B[0m\u001B[0;34m.\u001B[0m\u001B[0mget_agg_filter\u001B[0m\u001B[0;34m(\u001B[0m\u001B[0;34m)\u001B[0m \u001B[0;32mis\u001B[0m \u001B[0;32mnot\u001B[0m \u001B[0;32mNone\u001B[0m\u001B[0;34m:\u001B[0m\u001B[0;34m\u001B[0m\u001B[0;34m\u001B[0m\u001B[0m\n",
      "\u001B[0;32m/opt/anaconda3/lib/python3.9/site-packages/matplotlib/collections.py\u001B[0m in \u001B[0;36mdraw\u001B[0;34m(self, renderer)\u001B[0m\n\u001B[1;32m    970\u001B[0m     \u001B[0;32mdef\u001B[0m \u001B[0mdraw\u001B[0m\u001B[0;34m(\u001B[0m\u001B[0mself\u001B[0m\u001B[0;34m,\u001B[0m \u001B[0mrenderer\u001B[0m\u001B[0;34m)\u001B[0m\u001B[0;34m:\u001B[0m\u001B[0;34m\u001B[0m\u001B[0;34m\u001B[0m\u001B[0m\n\u001B[1;32m    971\u001B[0m         \u001B[0mself\u001B[0m\u001B[0;34m.\u001B[0m\u001B[0mset_sizes\u001B[0m\u001B[0;34m(\u001B[0m\u001B[0mself\u001B[0m\u001B[0;34m.\u001B[0m\u001B[0m_sizes\u001B[0m\u001B[0;34m,\u001B[0m \u001B[0mself\u001B[0m\u001B[0;34m.\u001B[0m\u001B[0mfigure\u001B[0m\u001B[0;34m.\u001B[0m\u001B[0mdpi\u001B[0m\u001B[0;34m)\u001B[0m\u001B[0;34m\u001B[0m\u001B[0;34m\u001B[0m\u001B[0m\n\u001B[0;32m--> 972\u001B[0;31m         \u001B[0msuper\u001B[0m\u001B[0;34m(\u001B[0m\u001B[0;34m)\u001B[0m\u001B[0;34m.\u001B[0m\u001B[0mdraw\u001B[0m\u001B[0;34m(\u001B[0m\u001B[0mrenderer\u001B[0m\u001B[0;34m)\u001B[0m\u001B[0;34m\u001B[0m\u001B[0;34m\u001B[0m\u001B[0m\n\u001B[0m\u001B[1;32m    973\u001B[0m \u001B[0;34m\u001B[0m\u001B[0m\n\u001B[1;32m    974\u001B[0m \u001B[0;34m\u001B[0m\u001B[0m\n",
      "\u001B[0;32m/opt/anaconda3/lib/python3.9/site-packages/matplotlib/artist.py\u001B[0m in \u001B[0;36mdraw_wrapper\u001B[0;34m(artist, renderer)\u001B[0m\n\u001B[1;32m     70\u001B[0m                 \u001B[0mrenderer\u001B[0m\u001B[0;34m.\u001B[0m\u001B[0mstart_filter\u001B[0m\u001B[0;34m(\u001B[0m\u001B[0;34m)\u001B[0m\u001B[0;34m\u001B[0m\u001B[0;34m\u001B[0m\u001B[0m\n\u001B[1;32m     71\u001B[0m \u001B[0;34m\u001B[0m\u001B[0m\n\u001B[0;32m---> 72\u001B[0;31m             \u001B[0;32mreturn\u001B[0m \u001B[0mdraw\u001B[0m\u001B[0;34m(\u001B[0m\u001B[0martist\u001B[0m\u001B[0;34m,\u001B[0m \u001B[0mrenderer\u001B[0m\u001B[0;34m)\u001B[0m\u001B[0;34m\u001B[0m\u001B[0;34m\u001B[0m\u001B[0m\n\u001B[0m\u001B[1;32m     73\u001B[0m         \u001B[0;32mfinally\u001B[0m\u001B[0;34m:\u001B[0m\u001B[0;34m\u001B[0m\u001B[0;34m\u001B[0m\u001B[0m\n\u001B[1;32m     74\u001B[0m             \u001B[0;32mif\u001B[0m \u001B[0martist\u001B[0m\u001B[0;34m.\u001B[0m\u001B[0mget_agg_filter\u001B[0m\u001B[0;34m(\u001B[0m\u001B[0;34m)\u001B[0m \u001B[0;32mis\u001B[0m \u001B[0;32mnot\u001B[0m \u001B[0;32mNone\u001B[0m\u001B[0;34m:\u001B[0m\u001B[0;34m\u001B[0m\u001B[0;34m\u001B[0m\u001B[0m\n",
      "\u001B[0;32m/opt/anaconda3/lib/python3.9/site-packages/matplotlib/collections.py\u001B[0m in \u001B[0;36mdraw\u001B[0;34m(self, renderer)\u001B[0m\n\u001B[1;32m    386\u001B[0m             \u001B[0;32melse\u001B[0m\u001B[0;34m:\u001B[0m\u001B[0;34m\u001B[0m\u001B[0;34m\u001B[0m\u001B[0m\n\u001B[1;32m    387\u001B[0m                 \u001B[0mcombined_transform\u001B[0m \u001B[0;34m=\u001B[0m \u001B[0mtransform\u001B[0m\u001B[0;34m\u001B[0m\u001B[0;34m\u001B[0m\u001B[0m\n\u001B[0;32m--> 388\u001B[0;31m             \u001B[0mextents\u001B[0m \u001B[0;34m=\u001B[0m \u001B[0mpaths\u001B[0m\u001B[0;34m[\u001B[0m\u001B[0;36m0\u001B[0m\u001B[0;34m]\u001B[0m\u001B[0;34m.\u001B[0m\u001B[0mget_extents\u001B[0m\u001B[0;34m(\u001B[0m\u001B[0mcombined_transform\u001B[0m\u001B[0;34m)\u001B[0m\u001B[0;34m\u001B[0m\u001B[0;34m\u001B[0m\u001B[0m\n\u001B[0m\u001B[1;32m    389\u001B[0m             if (extents.width < self.figure.bbox.width\n\u001B[1;32m    390\u001B[0m                     and extents.height < self.figure.bbox.height):\n",
      "\u001B[0;32m/opt/anaconda3/lib/python3.9/site-packages/matplotlib/path.py\u001B[0m in \u001B[0;36mget_extents\u001B[0;34m(self, transform, **kwargs)\u001B[0m\n\u001B[1;32m    633\u001B[0m             \u001B[0;32mfor\u001B[0m \u001B[0mcurve\u001B[0m\u001B[0;34m,\u001B[0m \u001B[0mcode\u001B[0m \u001B[0;32min\u001B[0m \u001B[0mself\u001B[0m\u001B[0;34m.\u001B[0m\u001B[0miter_bezier\u001B[0m\u001B[0;34m(\u001B[0m\u001B[0;34m**\u001B[0m\u001B[0mkwargs\u001B[0m\u001B[0;34m)\u001B[0m\u001B[0;34m:\u001B[0m\u001B[0;34m\u001B[0m\u001B[0;34m\u001B[0m\u001B[0m\n\u001B[1;32m    634\u001B[0m                 \u001B[0;31m# places where the derivative is zero can be extrema\u001B[0m\u001B[0;34m\u001B[0m\u001B[0;34m\u001B[0m\u001B[0m\n\u001B[0;32m--> 635\u001B[0;31m                 \u001B[0m_\u001B[0m\u001B[0;34m,\u001B[0m \u001B[0mdzeros\u001B[0m \u001B[0;34m=\u001B[0m \u001B[0mcurve\u001B[0m\u001B[0;34m.\u001B[0m\u001B[0maxis_aligned_extrema\u001B[0m\u001B[0;34m(\u001B[0m\u001B[0;34m)\u001B[0m\u001B[0;34m\u001B[0m\u001B[0;34m\u001B[0m\u001B[0m\n\u001B[0m\u001B[1;32m    636\u001B[0m                 \u001B[0;31m# as can the ends of the curve\u001B[0m\u001B[0;34m\u001B[0m\u001B[0;34m\u001B[0m\u001B[0m\n\u001B[1;32m    637\u001B[0m                 \u001B[0mxys\u001B[0m\u001B[0;34m.\u001B[0m\u001B[0mappend\u001B[0m\u001B[0;34m(\u001B[0m\u001B[0mcurve\u001B[0m\u001B[0;34m(\u001B[0m\u001B[0;34m[\u001B[0m\u001B[0;36m0\u001B[0m\u001B[0;34m,\u001B[0m \u001B[0;34m*\u001B[0m\u001B[0mdzeros\u001B[0m\u001B[0;34m,\u001B[0m \u001B[0;36m1\u001B[0m\u001B[0;34m]\u001B[0m\u001B[0;34m)\u001B[0m\u001B[0;34m)\u001B[0m\u001B[0;34m\u001B[0m\u001B[0;34m\u001B[0m\u001B[0m\n",
      "\u001B[0;32m/opt/anaconda3/lib/python3.9/site-packages/matplotlib/bezier.py\u001B[0m in \u001B[0;36maxis_aligned_extrema\u001B[0;34m(self)\u001B[0m\n\u001B[1;32m    297\u001B[0m         \u001B[0mroots\u001B[0m \u001B[0;34m=\u001B[0m \u001B[0;34m[\u001B[0m\u001B[0;34m]\u001B[0m\u001B[0;34m\u001B[0m\u001B[0;34m\u001B[0m\u001B[0m\n\u001B[1;32m    298\u001B[0m         \u001B[0;32mfor\u001B[0m \u001B[0mi\u001B[0m\u001B[0;34m,\u001B[0m \u001B[0mpi\u001B[0m \u001B[0;32min\u001B[0m \u001B[0menumerate\u001B[0m\u001B[0;34m(\u001B[0m\u001B[0mdCj\u001B[0m\u001B[0;34m.\u001B[0m\u001B[0mT\u001B[0m\u001B[0;34m)\u001B[0m\u001B[0;34m:\u001B[0m\u001B[0;34m\u001B[0m\u001B[0;34m\u001B[0m\u001B[0m\n\u001B[0;32m--> 299\u001B[0;31m             \u001B[0mr\u001B[0m \u001B[0;34m=\u001B[0m \u001B[0mnp\u001B[0m\u001B[0;34m.\u001B[0m\u001B[0mroots\u001B[0m\u001B[0;34m(\u001B[0m\u001B[0mpi\u001B[0m\u001B[0;34m[\u001B[0m\u001B[0;34m:\u001B[0m\u001B[0;34m:\u001B[0m\u001B[0;34m-\u001B[0m\u001B[0;36m1\u001B[0m\u001B[0;34m]\u001B[0m\u001B[0;34m)\u001B[0m\u001B[0;34m\u001B[0m\u001B[0;34m\u001B[0m\u001B[0m\n\u001B[0m\u001B[1;32m    300\u001B[0m             \u001B[0mroots\u001B[0m\u001B[0;34m.\u001B[0m\u001B[0mappend\u001B[0m\u001B[0;34m(\u001B[0m\u001B[0mr\u001B[0m\u001B[0;34m)\u001B[0m\u001B[0;34m\u001B[0m\u001B[0;34m\u001B[0m\u001B[0m\n\u001B[1;32m    301\u001B[0m             \u001B[0mdims\u001B[0m\u001B[0;34m.\u001B[0m\u001B[0mappend\u001B[0m\u001B[0;34m(\u001B[0m\u001B[0mnp\u001B[0m\u001B[0;34m.\u001B[0m\u001B[0mfull_like\u001B[0m\u001B[0;34m(\u001B[0m\u001B[0mr\u001B[0m\u001B[0;34m,\u001B[0m \u001B[0mi\u001B[0m\u001B[0;34m)\u001B[0m\u001B[0;34m)\u001B[0m\u001B[0;34m\u001B[0m\u001B[0;34m\u001B[0m\u001B[0m\n",
      "\u001B[0;32m/opt/anaconda3/lib/python3.9/site-packages/numpy/core/overrides.py\u001B[0m in \u001B[0;36mroots\u001B[0;34m(*args, **kwargs)\u001B[0m\n",
      "\u001B[0;32m/opt/anaconda3/lib/python3.9/site-packages/numpy/lib/polynomial.py\u001B[0m in \u001B[0;36mroots\u001B[0;34m(p)\u001B[0m\n\u001B[1;32m    252\u001B[0m         \u001B[0mA\u001B[0m \u001B[0;34m=\u001B[0m \u001B[0mdiag\u001B[0m\u001B[0;34m(\u001B[0m\u001B[0mNX\u001B[0m\u001B[0;34m.\u001B[0m\u001B[0mones\u001B[0m\u001B[0;34m(\u001B[0m\u001B[0;34m(\u001B[0m\u001B[0mN\u001B[0m\u001B[0;34m-\u001B[0m\u001B[0;36m2\u001B[0m\u001B[0;34m,\u001B[0m\u001B[0;34m)\u001B[0m\u001B[0;34m,\u001B[0m \u001B[0mp\u001B[0m\u001B[0;34m.\u001B[0m\u001B[0mdtype\u001B[0m\u001B[0;34m)\u001B[0m\u001B[0;34m,\u001B[0m \u001B[0;34m-\u001B[0m\u001B[0;36m1\u001B[0m\u001B[0;34m)\u001B[0m\u001B[0;34m\u001B[0m\u001B[0;34m\u001B[0m\u001B[0m\n\u001B[1;32m    253\u001B[0m         \u001B[0mA\u001B[0m\u001B[0;34m[\u001B[0m\u001B[0;36m0\u001B[0m\u001B[0;34m,\u001B[0m\u001B[0;34m:\u001B[0m\u001B[0;34m]\u001B[0m \u001B[0;34m=\u001B[0m \u001B[0;34m-\u001B[0m\u001B[0mp\u001B[0m\u001B[0;34m[\u001B[0m\u001B[0;36m1\u001B[0m\u001B[0;34m:\u001B[0m\u001B[0;34m]\u001B[0m \u001B[0;34m/\u001B[0m \u001B[0mp\u001B[0m\u001B[0;34m[\u001B[0m\u001B[0;36m0\u001B[0m\u001B[0;34m]\u001B[0m\u001B[0;34m\u001B[0m\u001B[0;34m\u001B[0m\u001B[0m\n\u001B[0;32m--> 254\u001B[0;31m         \u001B[0mroots\u001B[0m \u001B[0;34m=\u001B[0m \u001B[0meigvals\u001B[0m\u001B[0;34m(\u001B[0m\u001B[0mA\u001B[0m\u001B[0;34m)\u001B[0m\u001B[0;34m\u001B[0m\u001B[0;34m\u001B[0m\u001B[0m\n\u001B[0m\u001B[1;32m    255\u001B[0m     \u001B[0;32melse\u001B[0m\u001B[0;34m:\u001B[0m\u001B[0;34m\u001B[0m\u001B[0;34m\u001B[0m\u001B[0m\n\u001B[1;32m    256\u001B[0m         \u001B[0mroots\u001B[0m \u001B[0;34m=\u001B[0m \u001B[0mNX\u001B[0m\u001B[0;34m.\u001B[0m\u001B[0marray\u001B[0m\u001B[0;34m(\u001B[0m\u001B[0;34m[\u001B[0m\u001B[0;34m]\u001B[0m\u001B[0;34m)\u001B[0m\u001B[0;34m\u001B[0m\u001B[0;34m\u001B[0m\u001B[0m\n",
      "\u001B[0;32m/opt/anaconda3/lib/python3.9/site-packages/numpy/core/overrides.py\u001B[0m in \u001B[0;36meigvals\u001B[0;34m(*args, **kwargs)\u001B[0m\n",
      "\u001B[0;32m/opt/anaconda3/lib/python3.9/site-packages/numpy/linalg/linalg.py\u001B[0m in \u001B[0;36meigvals\u001B[0;34m(a)\u001B[0m\n\u001B[1;32m   1047\u001B[0m         _raise_linalgerror_eigenvalues_nonconvergence)\n\u001B[1;32m   1048\u001B[0m     \u001B[0msignature\u001B[0m \u001B[0;34m=\u001B[0m \u001B[0;34m'D->D'\u001B[0m \u001B[0;32mif\u001B[0m \u001B[0misComplexType\u001B[0m\u001B[0;34m(\u001B[0m\u001B[0mt\u001B[0m\u001B[0;34m)\u001B[0m \u001B[0;32melse\u001B[0m \u001B[0;34m'd->D'\u001B[0m\u001B[0;34m\u001B[0m\u001B[0;34m\u001B[0m\u001B[0m\n\u001B[0;32m-> 1049\u001B[0;31m     \u001B[0mw\u001B[0m \u001B[0;34m=\u001B[0m \u001B[0m_umath_linalg\u001B[0m\u001B[0;34m.\u001B[0m\u001B[0meigvals\u001B[0m\u001B[0;34m(\u001B[0m\u001B[0ma\u001B[0m\u001B[0;34m,\u001B[0m \u001B[0msignature\u001B[0m\u001B[0;34m=\u001B[0m\u001B[0msignature\u001B[0m\u001B[0;34m,\u001B[0m \u001B[0mextobj\u001B[0m\u001B[0;34m=\u001B[0m\u001B[0mextobj\u001B[0m\u001B[0;34m)\u001B[0m\u001B[0;34m\u001B[0m\u001B[0;34m\u001B[0m\u001B[0m\n\u001B[0m\u001B[1;32m   1050\u001B[0m \u001B[0;34m\u001B[0m\u001B[0m\n\u001B[1;32m   1051\u001B[0m     \u001B[0;32mif\u001B[0m \u001B[0;32mnot\u001B[0m \u001B[0misComplexType\u001B[0m\u001B[0;34m(\u001B[0m\u001B[0mt\u001B[0m\u001B[0;34m)\u001B[0m\u001B[0;34m:\u001B[0m\u001B[0;34m\u001B[0m\u001B[0;34m\u001B[0m\u001B[0m\n",
      "\u001B[0;31mKeyboardInterrupt\u001B[0m: "
     ]
    },
    {
     "data": {
      "image/png": "[encoded data removed]",
      "text/plain": [
       "<Figure size 640x480 with 1 Axes>"
      ]
     },
     "metadata": {},
     "output_type": "display_data"
    }
   ],
   "source": [
    "import matplotlib.pyplot as plt\n",
    "from sklearn.cross_decomposition import CCA\n",
    "from sklearn.utils import shuffle\n",
    "\n",
    "def plot_cca(X, Y):\n",
    "    # Number of components\n",
    "    n_comps = min(X.shape[1], Y.shape[1])\n",
    "    \n",
    "    # Perform CCA\n",
    "    cca = CCA(n_components=n_comps)\n",
    "    cca.fit(X, Y)\n",
    "    X_c1, Y_c1 = cca.transform(X, Y)\n",
    "    corrs1 = [np.corrcoef(X_c1[:, i], Y_c1[:, i])[0, 1] for i in range(n_comps)]\n",
    "    \n",
    "    # Plot the real embedding as a bar plot\n",
    "    plt.bar(range(n_comps), corrs1, color='blue', alpha=0.5, label='Real Pair')\n",
    "    \n",
    "    i = 0\n",
    "    while i < 100:\n",
    "        user_embedding_shuffled = shuffle(user_embedding)\n",
    "        cca1 = CCA(n_components=n_comps)\n",
    "        cca1.fit(X, user_embedding_shuffled)\n",
    "        X_c2, Y_c2 = cca1.transform(X, user_embedding_shuffled)\n",
    "        corrs2 = [np.corrcoef(X_c2[:, i], Y_c2[:, i])[0, 1] for i in range(n_comps)]\n",
    "        i += 1\n",
    "        plt.scatter(range(n_comps), corrs2, color='orange')\n",
    "    \n",
    "    # Plot the shuffled embedding as a scatter plot\n",
    "    plt.scatter(range(n_comps), corrs2, color='orange', label='Permuted Pairs')\n",
    "    \n",
    "    # Set x-axis and y-axis labels\n",
    "    plt.xlabel('CCA Index', fontsize=14)\n",
    "    plt.ylabel('CCA Component Correlation', fontsize=14)\n",
    "    \n",
    "    \n",
    "    # Add legend\n",
    "    plt.legend(loc='upper right')\n",
    "    \n",
    "    # Adjust spacing\n",
    "    plt.tight_layout()\n",
    "    \n",
    "    # Save and display the plot\n",
    "    plt.savefig('permuted_100.png', dpi=300)\n",
    "    plt.show()\n",
    "\n",
    "plot_cca(user_boolean_embedding, user_embedding)\n"
   ]
  },
  {
   "cell_type": "markdown",
   "metadata": {},
   "source": [
    "linear system for KG embedding"
   ]
  },
  {
   "cell_type": "code",
   "execution_count": 30,
   "metadata": {},
   "outputs": [
    {
     "data": {
      "image/png": "[encoded data removed]",
      "text/plain": [
       "<Figure size 640x480 with 1 Axes>"
      ]
     },
     "metadata": {},
     "output_type": "display_data"
    }
   ],
   "source": [
    "import matplotlib.pyplot as plt\n",
    "import numpy as np\n",
    "\n",
    "# Generate two random distributions\n",
    "distribution1 = np.random.normal(loc=0, scale=1, size=20)\n",
    "distribution2 = np.random.normal(loc=1, scale=1, size=20)\n",
    "\n",
    "# Define the x-axis values as indices\n",
    "x = np.arange(len(distribution1))\n",
    "\n",
    "# Plot the values of the distributions using a bar plot\n",
    "plt.bar(x, distribution1, color='red', alpha=0.5, label='Distribution 1')\n",
    "plt.bar(x, distribution2, color='blue', alpha=0.5, label='Distribution 2')\n",
    "\n",
    "# Add labels and legend\n",
    "plt.xlabel('Index')\n",
    "plt.ylabel('Value')\n",
    "plt.legend(loc='upper right')\n",
    "\n",
    "# Show the plot\n",
    "plt.show()\n"
   ]
  },
  {
   "cell_type": "code",
   "execution_count": null,
   "metadata": {},
   "outputs": [],
   "source": []
  },
  {
   "cell_type": "code",
   "execution_count": null,
   "metadata": {},
   "outputs": [],
   "source": [
    "import matplotlib.pyplot as plt\n",
    "d = 0.015\n",
    "\n",
    "fig, (ax1,ax2) = plt.subplots(1,2,sharey=True)\n",
    "ax1.set_xlim(97,105)\n",
    "ax2.set_xlim(335.5,339)\n",
    "ax2.hist(r_norm,color='lightsteelblue')\n",
    "# plt.axes().set_aspect(1)\n",
    "ax2.axvline(np.array(r_norm).mean(), color='r', linestyle='dashed', linewidth=1)\n",
    "trans = ax2.get_xaxis_transform()\n",
    "plt.text(np.array(r_norm).mean()+0.15, .8, 'AVG_random', transform=trans)\n",
    "ax1.axvline(norm, color='r', linestyle='dashed', linewidth=1)\n",
    "trans = ax1.get_xaxis_transform()\n",
    "plt.text(norm+0.2, .8, 'AVG_BERT', transform=trans)\n",
    "\n",
    "ax1.spines['right'].set_visible(False)\n",
    "ax2.spines['left'].set_visible(False)\n",
    "ax1.yaxis.tick_left()\n",
    "ax2.yaxis.tick_right()\n",
    "# plt.xticks(np.arange(90, 350, 130))\n",
    "# plt.tight_layout()\n",
    "plt.subplots_adjust(wspace=0.15)\n",
    "\n",
    "\n",
    "kwargs = dict(transform=ax1.get_xaxis_transform(), color='k', clip_on=False)\n",
    "ax1.plot((105-d,105+d),(1-d,1+d),**kwargs)\n",
    "ax1.plot((105-d,105+d),(-d,d),**kwargs)\n",
    "kwargs.update(transform=ax2.get_xaxis_transform())\n",
    "ax1.plot((335.45-d,335.45+d),(1-d,1+d),**kwargs)\n",
    "ax1.plot((335.45-d,335.45+d),(-d,d),**kwargs)\n",
    "plt.savefig('avg_linear.png')\n",
    "plt.show()"
   ]
  },
  {
   "cell_type": "code",
   "execution_count": null,
   "metadata": {},
   "outputs": [],
   "source": [
    "#PCA on user embedding"
   ]
  },
  {
   "cell_type": "code",
   "execution_count": 51,
   "metadata": {},
   "outputs": [
    {
     "name": "stdout",
     "output_type": "stream",
     "text": [
      "Raw Eigenvalues: \n",
      " [2.78498928e+00 8.61219863e-01 4.53074386e-01 3.72533150e-01\n",
      " 2.80058666e-01 2.23018928e-01 1.66875435e-01 1.32467524e-01\n",
      " 1.25979724e-01 1.14223174e-01 9.67464619e-02 8.87011329e-02\n",
      " 7.89307251e-02 7.46271882e-02 6.51683487e-02 6.23868105e-02\n",
      " 5.84103078e-02 5.60934614e-02 5.02259147e-02 4.84220205e-02\n",
      " 4.66855214e-02 8.12976508e-04 7.81988946e-04 1.29172480e-03\n",
      " 1.55670439e-03 1.68137866e-03 2.79856346e-03 4.59472518e-03\n",
      " 5.39507742e-03 4.36021588e-02 4.12170993e-02 8.60819938e-03\n",
      " 9.36317052e-03 1.04984066e-02 3.80428468e-02 1.52221673e-02\n",
      " 1.58433114e-02 1.72116683e-02 1.91114324e-02 3.61372651e-02\n",
      " 3.46562990e-02 2.11179750e-02 3.28582840e-02 3.10637530e-02\n",
      " 3.01746324e-02 2.84730438e-02 2.79469483e-02 2.59045119e-02\n",
      " 2.32593726e-02 2.40794953e-02]\n",
      "Percentage of Variance Explained by Each Component: \n",
      " [4.09910301e-01 1.26759157e-01 6.66860224e-02 5.48315127e-02\n",
      " 4.12206010e-02 3.28251732e-02 2.45616599e-02 1.94973112e-02\n",
      " 1.85424004e-02 1.68120056e-02 1.42396854e-02 1.30555289e-02\n",
      " 1.16174656e-02 1.09840470e-02 9.59184208e-03 9.18243973e-03\n",
      " 8.59715581e-03 8.25614941e-03 7.39253106e-03 7.12702382e-03\n",
      " 6.87143617e-03 1.19658430e-04 1.15097507e-04 1.90123282e-04\n",
      " 2.29124460e-04 2.47474716e-04 4.11908224e-04 6.76277353e-04\n",
      " 7.94077672e-04 6.41760963e-03 6.06656323e-03 1.26700293e-03\n",
      " 1.37812381e-03 1.54521421e-03 5.59935898e-03 2.24048373e-03\n",
      " 2.33190719e-03 2.53330961e-03 2.81292751e-03 5.31888482e-03\n",
      " 5.10090794e-03 3.10826169e-03 4.83626603e-03 4.57213691e-03\n",
      " 4.44127118e-03 4.19082185e-03 4.11338818e-03 3.81277095e-03\n",
      " 3.42344456e-03 3.54415481e-03]\n"
     ]
    }
   ],
   "source": [
    "cov_mat = np.cov(user_embedding.T)\n",
    "eigen_vals, eigen_vecs = np.linalg.eig(cov_mat)\n",
    "\n",
    "# print the Eigenvalues\n",
    "print(\"Raw Eigenvalues: \\n\", eigen_vals)\n",
    "# the sum of the Eigenvalues \n",
    "print(\"Percentage of Variance Explained by Each Component: \\n\", eigen_vals/sum(eigen_vals))"
   ]
  },
  {
   "cell_type": "code",
   "execution_count": 6,
   "metadata": {},
   "outputs": [
    {
     "data": {
      "text/plain": [
       "array([0.4099103 , 0.53666946, 0.60335548, 0.65818699, 0.69940759,\n",
       "       0.73223277, 0.75679443, 0.77629174, 0.79483414, 0.81164614,\n",
       "       0.82588583, 0.83894136, 0.85055882, 0.86154287, 0.87113471,\n",
       "       0.88031715, 0.88891431, 0.89717046, 0.90456299, 0.91169001,\n",
       "       0.91856145, 0.92497906, 0.93104562, 0.93664498, 0.94196387,\n",
       "       0.94706477, 0.95190104, 0.95647318, 0.96091445, 0.96510527,\n",
       "       0.96921866, 0.97303143, 0.97657558, 0.97999903, 0.98310729,\n",
       "       0.98592022, 0.98845353, 0.99078543, 0.99302592, 0.99457113,\n",
       "       0.99594926, 0.99721626, 0.99801034, 0.99868661, 0.99909852,\n",
       "       0.999346  , 0.99957512, 0.99976524, 0.9998849 , 1.        ])"
      ]
     },
     "execution_count": 6,
     "metadata": {},
     "output_type": "execute_result"
    }
   ],
   "source": [
    "tot = sum(eigen_vals)\n",
    "var_exp = [(i / tot) for i in sorted(eigen_vals, reverse=True)]\n",
    "cum_var_exp = np.cumsum(var_exp)\n",
    "cum_var_exp"
   ]
  },
  {
   "cell_type": "code",
   "execution_count": 53,
   "metadata": {},
   "outputs": [
    {
     "data": {
      "text/plain": [
       "(50, 50)"
      ]
     },
     "execution_count": 53,
     "metadata": {},
     "output_type": "execute_result"
    }
   ],
   "source": [
    "eigen_vecs.shape"
   ]
  },
  {
   "cell_type": "code",
   "execution_count": 12,
   "metadata": {},
   "outputs": [
    {
     "data": {
      "image/png": "[encoded data removed]",
      "text/plain": [
       "<Figure size 432x288 with 1 Axes>"
      ]
     },
     "metadata": {
      "needs_background": "light"
     },
     "output_type": "display_data"
    }
   ],
   "source": [
    "import matplotlib.pyplot as plt\n",
    "\n",
    "plt.bar(range(1,51), var_exp, alpha=0.5, align='center',\n",
    "        label='Individual explained variance')\n",
    "plt.step(range(1,51), cum_var_exp, where='mid',\n",
    "         label='Cumulative explained variance',\n",
    "         color='red')\n",
    "plt.ylabel('Explained variance ratio')\n",
    "plt.xlabel('Principal component index')\n",
    "plt.legend(loc=\"lower right\")\n",
    "plt.savefig('pca')\n",
    "plt.show()"
   ]
  },
  {
   "cell_type": "code",
   "execution_count": 55,
   "metadata": {},
   "outputs": [
    {
     "data": {
      "text/plain": [
       "(6040, 30)"
      ]
     },
     "execution_count": 55,
     "metadata": {},
     "output_type": "execute_result"
    }
   ],
   "source": [
    "user_boolean_embedding.shape"
   ]
  },
  {
   "cell_type": "code",
   "execution_count": 9,
   "metadata": {},
   "outputs": [],
   "source": [
    "_, index = np.unique(user_boolean_embedding, axis=0, return_index=True)"
   ]
  },
  {
   "cell_type": "code",
   "execution_count": 10,
   "metadata": {},
   "outputs": [
    {
     "data": {
      "text/plain": [
       "array([ 355, 2804, 1045,  177,    1,  759, 1121,   89,  947,  443,  724,\n",
       "       1735,   30,  127, 2387, 1169,  965,   79, 5222,  153, 1061,  551,\n",
       "        147,  306,  365,  269,  286,  366,  810,  325, 2404,  243,  432,\n",
       "        295, 4877, 1144,  626,   16,  349, 2003,  106,   43,  160,  108,\n",
       "        124,  215,  104,   39,  390,  549,    3, 1288, 2240, 4132,   32,\n",
       "        826,   12,   55,  101,  326,   99,  156,  110,   73,  140,   64,\n",
       "         13,  265,  122, 1558,   28,  319, 1041, 1284, 1007,  332,    6,\n",
       "       4561,    4,  573,   65,    8,  111,    2,   19,    7,   52,   26,\n",
       "       4687,   41,   14,  236,  235,   47,   35,   57,  148, 3112,  137,\n",
       "         45,  256,  180,   20,   21,  196,   48,  188,  437,  125, 1786,\n",
       "        391,  989,  185,   24,  142,  135,   63,  228,  736,  774, 1467,\n",
       "       4412, 4477,  718, 4786, 1817, 4005, 3045, 4806, 1814,   18, 4186,\n",
       "        886, 1037,  515,  163, 2405,  885, 3780,   88, 4986, 2333,  601,\n",
       "        758,  333,  314, 1179, 4230,  170, 1110,  840,  656, 2071,  167,\n",
       "       1042,    5, 3835,  237,  318,   66, 2714,  324,  311,   58,  232,\n",
       "       1013,   44,  192, 2141, 2541,  904,   71,  446,  293,  155,  136,\n",
       "       1374,  510,  126, 1069,   77,  145, 1287,  486,  547, 1406,  373,\n",
       "         54,   15,  105,  195,  703,   29,  398, 2540, 2964,   61,  200,\n",
       "          9,  138, 1163, 2474,  496,   95, 1552,  360,  287,   31,  166,\n",
       "         36,   23,  602,  798,  218,  339,   49,   10,  600,  745,  527,\n",
       "       1145, 3589,  248,  267,   33, 4172, 1113, 3501, 2987, 1595,   37,\n",
       "         17,  499,  618,  429, 5410, 1186, 5767,  742, 3086,    0])"
      ]
     },
     "execution_count": 10,
     "metadata": {},
     "output_type": "execute_result"
    }
   ],
   "source": [
    "index"
   ]
  },
  {
   "cell_type": "code",
   "execution_count": 11,
   "metadata": {},
   "outputs": [],
   "source": [
    "df = pd. DataFrame(user_boolean_embedding)"
   ]
  },
  {
   "cell_type": "code",
   "execution_count": null,
   "metadata": {},
   "outputs": [],
   "source": []
  }
 ],
 "metadata": {
  "kernelspec": {
   "display_name": "Python [conda env:anaconda3]",
   "language": "python",
   "name": "conda-env-anaconda3-py"
  },
  "language_info": {
   "codemirror_mode": {
    "name": "ipython",
    "version": 3
   },
   "file_extension": ".py",
   "mimetype": "text/x-python",
   "name": "python",
   "nbconvert_exporter": "python",
   "pygments_lexer": "ipython3",
   "version": "3.7.6"
  }
 },
 "nbformat": 4,
 "nbformat_minor": 4
}
